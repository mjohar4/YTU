{
  "cells": [
    {
      "attachments": {},
      "cell_type": "markdown",
      "metadata": {
        "id": "kkJ3GLjD9F3E"
      },
      "source": [
        "# Imports"
      ]
    },
    {
      "cell_type": "code",
      "execution_count": 1,
      "metadata": {
        "id": "XB7lPHZ5J2zx"
      },
      "outputs": [
        {
          "name": "stderr",
          "output_type": "stream",
          "text": [
            "c:\\Users\\Administrator\\anaconda3\\lib\\site-packages\\scipy\\__init__.py:146: UserWarning: A NumPy version >=1.16.5 and <1.23.0 is required for this version of SciPy (detected version 1.24.3\n",
            "  warnings.warn(f\"A NumPy version >={np_minversion} and <{np_maxversion}\"\n"
          ]
        }
      ],
      "source": [
        "import numpy as np\n",
        "import matplotlib.pyplot as plt\n",
        "import os\n",
        "from PIL import Image\n",
        "import cv2\n",
        "import pandas as pd\n",
        "from patchify import patchify,unpatchify\n",
        "import tifffile as tif\n",
        "from tqdm import tqdm\n",
        "import gc\n",
        "import utils"
      ]
    },
    {
      "attachments": {},
      "cell_type": "markdown",
      "metadata": {
        "id": "cailt-kA9Ncy"
      },
      "source": [
        "# Helping Functions"
      ]
    },
    {
      "cell_type": "code",
      "execution_count": 4,
      "metadata": {
        "colab": {
          "base_uri": "https://localhost:8080/"
        },
        "id": "I73Tl-SjRe_3",
        "outputId": "8957fafe-b0a5-4685-f9c4-cbb365b99e08"
      },
      "outputs": [
        {
          "data": {
            "text/html": [
              "<div>\n",
              "<style scoped>\n",
              "    .dataframe tbody tr th:only-of-type {\n",
              "        vertical-align: middle;\n",
              "    }\n",
              "\n",
              "    .dataframe tbody tr th {\n",
              "        vertical-align: top;\n",
              "    }\n",
              "\n",
              "    .dataframe thead th {\n",
              "        text-align: right;\n",
              "    }\n",
              "</style>\n",
              "<table border=\"1\" class=\"dataframe\">\n",
              "  <thead>\n",
              "    <tr style=\"text-align: right;\">\n",
              "      <th></th>\n",
              "      <th>img_name</th>\n",
              "      <th>img_path</th>\n",
              "      <th>gt_path</th>\n",
              "      <th>pred_path</th>\n",
              "      <th>models_name</th>\n",
              "    </tr>\n",
              "  </thead>\n",
              "  <tbody>\n",
              "    <tr>\n",
              "      <th>0</th>\n",
              "      <td>102</td>\n",
              "      <td>test_images/102/102.tif</td>\n",
              "      <td>test_images/102/102_mask.tiff</td>\n",
              "      <td>predicted_images/VGG_unet_90_20_model/102.png</td>\n",
              "      <td>VGG_unet_90_20_model</td>\n",
              "    </tr>\n",
              "    <tr>\n",
              "      <th>1</th>\n",
              "      <td>121</td>\n",
              "      <td>test_images/121/121.tif</td>\n",
              "      <td>test_images/121/121_mask.tiff</td>\n",
              "      <td>predicted_images/VGG_unet_90_20_model/121.png</td>\n",
              "      <td>VGG_unet_90_20_model</td>\n",
              "    </tr>\n",
              "    <tr>\n",
              "      <th>2</th>\n",
              "      <td>201</td>\n",
              "      <td>test_images/201/201.tif</td>\n",
              "      <td>test_images/201/201_mask.tiff</td>\n",
              "      <td>predicted_images/VGG_unet_90_20_model/201.png</td>\n",
              "      <td>VGG_unet_90_20_model</td>\n",
              "    </tr>\n",
              "    <tr>\n",
              "      <th>3</th>\n",
              "      <td>202</td>\n",
              "      <td>test_images/202/202.tif</td>\n",
              "      <td>test_images/202/202_mask.tiff</td>\n",
              "      <td>predicted_images/VGG_unet_90_20_model/202.png</td>\n",
              "      <td>VGG_unet_90_20_model</td>\n",
              "    </tr>\n",
              "    <tr>\n",
              "      <th>4</th>\n",
              "      <td>203</td>\n",
              "      <td>test_images/203/203.tif</td>\n",
              "      <td>test_images/203/203_mask.tiff</td>\n",
              "      <td>predicted_images/VGG_unet_90_20_model/203.png</td>\n",
              "      <td>VGG_unet_90_20_model</td>\n",
              "    </tr>\n",
              "    <tr>\n",
              "      <th>...</th>\n",
              "      <td>...</td>\n",
              "      <td>...</td>\n",
              "      <td>...</td>\n",
              "      <td>...</td>\n",
              "      <td>...</td>\n",
              "    </tr>\n",
              "    <tr>\n",
              "      <th>145</th>\n",
              "      <td>395</td>\n",
              "      <td>test_images/395/395.tiff</td>\n",
              "      <td>test_images/395/395_mask.tiff</td>\n",
              "      <td>predicted_images/unet_98_3_model/395.png</td>\n",
              "      <td>unet_98_3_model</td>\n",
              "    </tr>\n",
              "    <tr>\n",
              "      <th>146</th>\n",
              "      <td>399</td>\n",
              "      <td>test_images/399/399.tiff</td>\n",
              "      <td>test_images/399/399_mask.tiff</td>\n",
              "      <td>predicted_images/unet_98_3_model/399.png</td>\n",
              "      <td>unet_98_3_model</td>\n",
              "    </tr>\n",
              "    <tr>\n",
              "      <th>147</th>\n",
              "      <td>401</td>\n",
              "      <td>test_images/401/401.tif</td>\n",
              "      <td>test_images/401/401_mask.tiff</td>\n",
              "      <td>predicted_images/unet_98_3_model/401.png</td>\n",
              "      <td>unet_98_3_model</td>\n",
              "    </tr>\n",
              "    <tr>\n",
              "      <th>148</th>\n",
              "      <td>402</td>\n",
              "      <td>test_images/402/402.tif</td>\n",
              "      <td>test_images/402/402_mask.tiff</td>\n",
              "      <td>predicted_images/unet_98_3_model/402.png</td>\n",
              "      <td>unet_98_3_model</td>\n",
              "    </tr>\n",
              "    <tr>\n",
              "      <th>149</th>\n",
              "      <td>403</td>\n",
              "      <td>test_images/403/403.tif</td>\n",
              "      <td>test_images/403/403_mask.tiff</td>\n",
              "      <td>predicted_images/unet_98_3_model/403.png</td>\n",
              "      <td>unet_98_3_model</td>\n",
              "    </tr>\n",
              "  </tbody>\n",
              "</table>\n",
              "<p>150 rows × 5 columns</p>\n",
              "</div>"
            ],
            "text/plain": [
              "    img_name                  img_path                        gt_path  \\\n",
              "0        102   test_images/102/102.tif  test_images/102/102_mask.tiff   \n",
              "1        121   test_images/121/121.tif  test_images/121/121_mask.tiff   \n",
              "2        201   test_images/201/201.tif  test_images/201/201_mask.tiff   \n",
              "3        202   test_images/202/202.tif  test_images/202/202_mask.tiff   \n",
              "4        203   test_images/203/203.tif  test_images/203/203_mask.tiff   \n",
              "..       ...                       ...                            ...   \n",
              "145      395  test_images/395/395.tiff  test_images/395/395_mask.tiff   \n",
              "146      399  test_images/399/399.tiff  test_images/399/399_mask.tiff   \n",
              "147      401   test_images/401/401.tif  test_images/401/401_mask.tiff   \n",
              "148      402   test_images/402/402.tif  test_images/402/402_mask.tiff   \n",
              "149      403   test_images/403/403.tif  test_images/403/403_mask.tiff   \n",
              "\n",
              "                                         pred_path           models_name  \n",
              "0    predicted_images/VGG_unet_90_20_model/102.png  VGG_unet_90_20_model  \n",
              "1    predicted_images/VGG_unet_90_20_model/121.png  VGG_unet_90_20_model  \n",
              "2    predicted_images/VGG_unet_90_20_model/201.png  VGG_unet_90_20_model  \n",
              "3    predicted_images/VGG_unet_90_20_model/202.png  VGG_unet_90_20_model  \n",
              "4    predicted_images/VGG_unet_90_20_model/203.png  VGG_unet_90_20_model  \n",
              "..                                             ...                   ...  \n",
              "145       predicted_images/unet_98_3_model/395.png       unet_98_3_model  \n",
              "146       predicted_images/unet_98_3_model/399.png       unet_98_3_model  \n",
              "147       predicted_images/unet_98_3_model/401.png       unet_98_3_model  \n",
              "148       predicted_images/unet_98_3_model/402.png       unet_98_3_model  \n",
              "149       predicted_images/unet_98_3_model/403.png       unet_98_3_model  \n",
              "\n",
              "[150 rows x 5 columns]"
            ]
          },
          "execution_count": 4,
          "metadata": {},
          "output_type": "execute_result"
        }
      ],
      "source": [
        "# create data frame to handle all ROI images\n",
        "\n",
        "df =pd.DataFrame()\n",
        "pred_dir = 'predicted_images'\n",
        "img_gt_dir = 'test_images'\n",
        "img_paths =[]\n",
        "gt_paths =[]\n",
        "pred_paths =[]\n",
        "imgs_list = []\n",
        "models_name = []\n",
        "\n",
        "for model_pred_dir in sorted(os.listdir(pred_dir)):\n",
        "    for pred_file in [x for x in sorted(os.listdir(pred_dir+'/'+model_pred_dir)) if x!='desktop.ini']:\n",
        "        pred_paths.append(pred_dir+'/'+model_pred_dir+'/'+pred_file)\n",
        "        imgs_list.append(pred_file[:-4])\n",
        "        models_name.append(model_pred_dir)\n",
        "\n",
        "df['img_name'] = imgs_list\n",
        "df['img_path'] =''\n",
        "df['gt_path'] =''\n",
        "df['pred_path'] = pred_paths\n",
        "df['models_name'] = models_name\n",
        "for img_file in set(imgs_list):\n",
        "    [im_f , gt_f] = sorted(os.listdir(f'{img_gt_dir}/{img_file}'))[:-1]\n",
        "    for idx, row in  df[df['img_name']==img_file].iterrows():\n",
        "        df.at[idx,'img_path']= f'{img_gt_dir}/{img_file}/{im_f}'\n",
        "        df.at[idx, 'gt_path'] = f'{img_gt_dir}/{img_file}/{gt_f}'\n",
        "\n",
        "df"
      ]
    },
    {
      "cell_type": "code",
      "execution_count": 34,
      "metadata": {},
      "outputs": [
        {
          "name": "stdout",
          "output_type": "stream",
          "text": [
            "Model unet_100_50_model.............\n",
            "\n",
            "IOU : 0.22977762818401654\n",
            "search for intersect in  218 contours\n"
          ]
        },
        {
          "name": "stderr",
          "output_type": "stream",
          "text": [
            "100%|██████████| 218/218 [03:44<00:00,  1.03s/it]\n"
          ]
        },
        {
          "name": "stdout",
          "output_type": "stream",
          "text": [
            "(6144, 25600) (6144, 25600)\n",
            "IOU : 0.2388482031481284\n",
            "Model unet_100_50_model.............\n",
            "\n",
            "IOU : 0.18182292507862652\n",
            "search for intersect in  128 contours\n"
          ]
        },
        {
          "name": "stderr",
          "output_type": "stream",
          "text": [
            "100%|██████████| 128/128 [01:28<00:00,  1.44it/s]\n"
          ]
        },
        {
          "name": "stdout",
          "output_type": "stream",
          "text": [
            "(16896, 6144) (16896, 6144)\n",
            "IOU : 0.14452807337755455\n",
            "Model unet_100_50_model.............\n",
            "\n",
            "IOU : 0.16926776961252293\n",
            "search for intersect in  148 contours\n"
          ]
        },
        {
          "name": "stderr",
          "output_type": "stream",
          "text": [
            "100%|██████████| 148/148 [02:01<00:00,  1.21it/s]\n"
          ]
        },
        {
          "name": "stdout",
          "output_type": "stream",
          "text": [
            "(5120, 23552) (5120, 23552)\n",
            "IOU : 0.12373716848572495\n",
            "Model unet_100_50_model.............\n",
            "\n",
            "IOU : 0.3619354438268336\n",
            "search for intersect in  64 contours\n"
          ]
        },
        {
          "name": "stderr",
          "output_type": "stream",
          "text": [
            "100%|██████████| 64/64 [00:12<00:00,  5.29it/s]\n"
          ]
        },
        {
          "name": "stdout",
          "output_type": "stream",
          "text": [
            "(4096, 6144) (4096, 6144)\n",
            "IOU : 0.32751938274070685\n",
            "Model unet_100_50_model.............\n",
            "\n",
            "IOU : 0.3231428246342349\n",
            "search for intersect in  28 contours\n"
          ]
        },
        {
          "name": "stderr",
          "output_type": "stream",
          "text": [
            "100%|██████████| 28/28 [00:03<00:00,  8.95it/s]\n"
          ]
        },
        {
          "name": "stdout",
          "output_type": "stream",
          "text": [
            "(5120, 3072) (5120, 3072)\n",
            "IOU : 0.3107878767770153\n",
            "Model unet_100_50_model.............\n",
            "\n",
            "IOU : 0.1484404468235238\n",
            "search for intersect in  103 contours\n"
          ]
        },
        {
          "name": "stderr",
          "output_type": "stream",
          "text": [
            "100%|██████████| 103/103 [00:48<00:00,  2.13it/s]\n"
          ]
        },
        {
          "name": "stdout",
          "output_type": "stream",
          "text": [
            "(5120, 11776) (5120, 11776)\n",
            "IOU : 0.12934694104428685\n",
            "Model unet_100_50_model.............\n",
            "\n",
            "IOU : 0.12544613705886276\n",
            "search for intersect in  49 contours\n"
          ]
        },
        {
          "name": "stderr",
          "output_type": "stream",
          "text": [
            "100%|██████████| 49/49 [00:12<00:00,  3.92it/s]\n"
          ]
        },
        {
          "name": "stdout",
          "output_type": "stream",
          "text": [
            "(5120, 7168) (5120, 7168)\n",
            "IOU : 0.09674314784851167\n",
            "Model unet_100_50_model.............\n",
            "\n",
            "IOU : 0.03945999138020491\n",
            "search for intersect in  8 contours\n"
          ]
        },
        {
          "name": "stderr",
          "output_type": "stream",
          "text": [
            "100%|██████████| 8/8 [00:01<00:00,  4.04it/s]\n"
          ]
        },
        {
          "name": "stdout",
          "output_type": "stream",
          "text": [
            "(5120, 7168) (5120, 7168)\n",
            "IOU : 0.033920003508119335\n",
            "Model unet_100_50_model.............\n",
            "\n",
            "IOU : 0.06976247804170836\n",
            "search for intersect in  12 contours\n"
          ]
        },
        {
          "name": "stderr",
          "output_type": "stream",
          "text": [
            "100%|██████████| 12/12 [00:03<00:00,  3.87it/s]\n"
          ]
        },
        {
          "name": "stdout",
          "output_type": "stream",
          "text": [
            "(5120, 7168) (5120, 7168)\n",
            "IOU : 0.056895489365681\n",
            "Model unet_100_50_model.............\n",
            "\n",
            "IOU : 0.1696286889461572\n",
            "search for intersect in  45 contours\n"
          ]
        },
        {
          "name": "stderr",
          "output_type": "stream",
          "text": [
            "100%|██████████| 45/45 [00:11<00:00,  3.97it/s]\n"
          ]
        },
        {
          "name": "stdout",
          "output_type": "stream",
          "text": [
            "(5120, 7168) (5120, 7168)\n",
            "IOU : 0.14078887978226698\n",
            "Model unet_100_50_model.............\n",
            "\n",
            "IOU : 0.027009311334824076\n",
            "search for intersect in  44 contours\n"
          ]
        },
        {
          "name": "stderr",
          "output_type": "stream",
          "text": [
            "100%|██████████| 44/44 [00:12<00:00,  3.66it/s]\n"
          ]
        },
        {
          "name": "stdout",
          "output_type": "stream",
          "text": [
            "(5120, 7168) (5120, 7168)\n",
            "IOU : 0.026111928051058938\n",
            "Model unet_100_50_model.............\n",
            "\n",
            "IOU : 0.10784878310469788\n",
            "search for intersect in  19 contours\n"
          ]
        },
        {
          "name": "stderr",
          "output_type": "stream",
          "text": [
            "100%|██████████| 19/19 [00:06<00:00,  3.08it/s]\n"
          ]
        },
        {
          "name": "stdout",
          "output_type": "stream",
          "text": [
            "(5120, 7168) (5120, 7168)\n",
            "IOU : 0.09511138996684143\n",
            "Model unet_100_50_model.............\n",
            "\n",
            "IOU : 0.18785000523793371\n",
            "search for intersect in  41 contours\n"
          ]
        },
        {
          "name": "stderr",
          "output_type": "stream",
          "text": [
            "100%|██████████| 41/41 [00:11<00:00,  3.67it/s]\n"
          ]
        },
        {
          "name": "stdout",
          "output_type": "stream",
          "text": [
            "(5120, 7168) (5120, 7168)\n",
            "IOU : 0.17830268725572254\n",
            "Model unet_100_50_model.............\n",
            "\n",
            "IOU : 0.08502082843556773\n",
            "search for intersect in  26 contours\n"
          ]
        },
        {
          "name": "stderr",
          "output_type": "stream",
          "text": [
            "100%|██████████| 26/26 [00:06<00:00,  3.80it/s]\n"
          ]
        },
        {
          "name": "stdout",
          "output_type": "stream",
          "text": [
            "(5120, 7168) (5120, 7168)\n",
            "IOU : 0.062358113044194315\n",
            "Model unet_100_50_model.............\n",
            "\n",
            "IOU : 0.43489789710734617\n",
            "search for intersect in  3 contours\n"
          ]
        },
        {
          "name": "stderr",
          "output_type": "stream",
          "text": [
            "100%|██████████| 3/3 [00:00<00:00, 89.00it/s]"
          ]
        },
        {
          "name": "stdout",
          "output_type": "stream",
          "text": [
            "(1536, 1024) (1536, 1024)\n",
            "IOU : 0.4990331210788992\n",
            "Model unet_100_50_model.............\n",
            "\n"
          ]
        },
        {
          "name": "stderr",
          "output_type": "stream",
          "text": [
            "\n"
          ]
        },
        {
          "name": "stdout",
          "output_type": "stream",
          "text": [
            "IOU : 0.10260802963414817\n",
            "search for intersect in  339 contours\n"
          ]
        },
        {
          "name": "stderr",
          "output_type": "stream",
          "text": [
            "100%|██████████| 339/339 [08:29<00:00,  1.50s/it]\n"
          ]
        },
        {
          "name": "stdout",
          "output_type": "stream",
          "text": [
            "(18944, 6656) (18944, 6656)\n",
            "IOU : 0.14827428757664643\n",
            "Model unet_100_50_model.............\n",
            "\n",
            "IOU : 0.170503587641233\n",
            "search for intersect in  62 contours\n"
          ]
        },
        {
          "name": "stderr",
          "output_type": "stream",
          "text": [
            "100%|██████████| 62/62 [00:37<00:00,  1.66it/s]\n"
          ]
        },
        {
          "name": "stdout",
          "output_type": "stream",
          "text": [
            "(5120, 7168) (5120, 7168)\n",
            "IOU : 0.1577448093346693\n",
            "Model unet_100_50_model.............\n",
            "\n",
            "IOU : 0.12328201691434966\n",
            "search for intersect in  28 contours\n"
          ]
        },
        {
          "name": "stderr",
          "output_type": "stream",
          "text": [
            "100%|██████████| 28/28 [00:15<00:00,  1.77it/s]\n"
          ]
        },
        {
          "name": "stdout",
          "output_type": "stream",
          "text": [
            "(5120, 7168) (5120, 7168)\n",
            "IOU : 0.10683096950285277\n",
            "Model unet_100_50_model.............\n",
            "\n",
            "IOU : 0.0953403759708259\n",
            "search for intersect in  18 contours\n"
          ]
        },
        {
          "name": "stderr",
          "output_type": "stream",
          "text": [
            "100%|██████████| 18/18 [00:04<00:00,  4.19it/s]\n"
          ]
        },
        {
          "name": "stdout",
          "output_type": "stream",
          "text": [
            "(5120, 7168) (5120, 7168)\n",
            "IOU : 0.08524333756216866\n",
            "Model unet_100_50_model.............\n",
            "\n",
            "IOU : 0.0756011358253614\n",
            "search for intersect in  3 contours\n"
          ]
        },
        {
          "name": "stderr",
          "output_type": "stream",
          "text": [
            "100%|██████████| 3/3 [00:00<00:00,  3.31it/s]\n"
          ]
        },
        {
          "name": "stdout",
          "output_type": "stream",
          "text": [
            "(5120, 7168) (5120, 7168)\n",
            "IOU : 0.06740177071235232\n",
            "Model unet_100_50_model.............\n",
            "\n",
            "IOU : 0.04304173453462506\n",
            "search for intersect in  8 contours\n"
          ]
        },
        {
          "name": "stderr",
          "output_type": "stream",
          "text": [
            "100%|██████████| 8/8 [00:03<00:00,  2.23it/s]\n"
          ]
        },
        {
          "name": "stdout",
          "output_type": "stream",
          "text": [
            "(5120, 7168) (5120, 7168)\n",
            "IOU : 0.037907550776132025\n",
            "Model unet_100_50_model.............\n",
            "\n",
            "IOU : 0.07776958492229548\n",
            "search for intersect in  22 contours\n"
          ]
        },
        {
          "name": "stderr",
          "output_type": "stream",
          "text": [
            "100%|██████████| 22/22 [00:09<00:00,  2.25it/s]\n"
          ]
        },
        {
          "name": "stdout",
          "output_type": "stream",
          "text": [
            "(5120, 7168) (5120, 7168)\n",
            "IOU : 0.06971302243816718\n",
            "Model unet_100_50_model.............\n",
            "\n",
            "IOU : 0.476681574714066\n",
            "search for intersect in  2 contours\n"
          ]
        },
        {
          "name": "stderr",
          "output_type": "stream",
          "text": [
            "100%|██████████| 2/2 [00:00<00:00, 179.45it/s]"
          ]
        },
        {
          "name": "stdout",
          "output_type": "stream",
          "text": [
            "(1024, 512) (1024, 512)\n",
            "IOU : 0.5030811155390368\n",
            "Model unet_100_50_model.............\n",
            "\n"
          ]
        },
        {
          "name": "stderr",
          "output_type": "stream",
          "text": [
            "\n"
          ]
        },
        {
          "name": "stdout",
          "output_type": "stream",
          "text": [
            "IOU : 0.008324813639485897\n",
            "search for intersect in  30 contours\n"
          ]
        },
        {
          "name": "stderr",
          "output_type": "stream",
          "text": [
            "100%|██████████| 30/30 [00:04<00:00,  6.77it/s]\n"
          ]
        },
        {
          "name": "stdout",
          "output_type": "stream",
          "text": [
            "(3584, 3584) (3584, 3584)\n",
            "IOU : 0.00660631622704393\n",
            "Model unet_100_50_model.............\n",
            "\n",
            "IOU : 0.6022117095876242\n",
            "search for intersect in  1 contours\n"
          ]
        },
        {
          "name": "stderr",
          "output_type": "stream",
          "text": [
            "100%|██████████| 1/1 [00:00<00:00, 326.56it/s]\n"
          ]
        },
        {
          "name": "stdout",
          "output_type": "stream",
          "text": [
            "(512, 512) (512, 512)\n",
            "IOU : 0.603021120433677\n",
            "Model unet_90_20_model.............\n",
            "\n",
            "IOU : 0.3884967364542739\n",
            "search for intersect in  270 contours\n"
          ]
        },
        {
          "name": "stderr",
          "output_type": "stream",
          "text": [
            "100%|██████████| 270/270 [08:44<00:00,  1.94s/it]\n"
          ]
        },
        {
          "name": "stdout",
          "output_type": "stream",
          "text": [
            "(6144, 25600) (6144, 25600)\n",
            "IOU : 0.3800430226013062\n",
            "Model unet_90_20_model.............\n",
            "\n",
            "IOU : 0.4872811103827858\n",
            "search for intersect in  81 contours\n"
          ]
        },
        {
          "name": "stderr",
          "output_type": "stream",
          "text": [
            "100%|██████████| 81/81 [00:52<00:00,  1.56it/s]\n"
          ]
        },
        {
          "name": "stdout",
          "output_type": "stream",
          "text": [
            "(16896, 6144) (16896, 6144)\n",
            "IOU : 0.5393472764977093\n",
            "Model unet_90_20_model.............\n",
            "\n",
            "IOU : 0.6999066191158412\n",
            "search for intersect in  55 contours\n"
          ]
        },
        {
          "name": "stderr",
          "output_type": "stream",
          "text": [
            "100%|██████████| 55/55 [00:45<00:00,  1.22it/s]\n"
          ]
        },
        {
          "name": "stdout",
          "output_type": "stream",
          "text": [
            "(5120, 23552) (5120, 23552)\n",
            "IOU : 0.6656185134353125\n",
            "Model unet_90_20_model.............\n",
            "\n",
            "IOU : 0.8232124206349453\n",
            "search for intersect in  5 contours\n"
          ]
        },
        {
          "name": "stderr",
          "output_type": "stream",
          "text": [
            "100%|██████████| 5/5 [00:00<00:00,  6.47it/s]\n"
          ]
        },
        {
          "name": "stdout",
          "output_type": "stream",
          "text": [
            "(4096, 6144) (4096, 6144)\n",
            "IOU : 0.6320805768833145\n",
            "Model unet_90_20_model.............\n",
            "\n",
            "IOU : 0.7408236600853491\n",
            "search for intersect in  7 contours\n"
          ]
        },
        {
          "name": "stderr",
          "output_type": "stream",
          "text": [
            "100%|██████████| 7/7 [00:00<00:00, 10.14it/s]\n"
          ]
        },
        {
          "name": "stdout",
          "output_type": "stream",
          "text": [
            "(5120, 3072) (5120, 3072)\n",
            "IOU : 0.7384878073869389\n",
            "Model unet_90_20_model.............\n",
            "\n",
            "IOU : 0.8211507457059662\n",
            "search for intersect in  7 contours\n"
          ]
        },
        {
          "name": "stderr",
          "output_type": "stream",
          "text": [
            "100%|██████████| 7/7 [00:02<00:00,  2.60it/s]\n"
          ]
        },
        {
          "name": "stdout",
          "output_type": "stream",
          "text": [
            "(5120, 11776) (5120, 11776)\n",
            "IOU : 0.8328215444378319\n",
            "Model unet_90_20_model.............\n",
            "\n",
            "IOU : 0.4699721010323896\n",
            "search for intersect in  29 contours\n"
          ]
        },
        {
          "name": "stderr",
          "output_type": "stream",
          "text": [
            "100%|██████████| 29/29 [00:06<00:00,  4.63it/s]\n"
          ]
        },
        {
          "name": "stdout",
          "output_type": "stream",
          "text": [
            "(5120, 7168) (5120, 7168)\n",
            "IOU : 0.584237002257638\n",
            "Model unet_90_20_model.............\n",
            "\n",
            "IOU : 0.2862123925340552\n",
            "search for intersect in  55 contours\n"
          ]
        },
        {
          "name": "stderr",
          "output_type": "stream",
          "text": [
            "100%|██████████| 55/55 [00:12<00:00,  4.56it/s]\n"
          ]
        },
        {
          "name": "stdout",
          "output_type": "stream",
          "text": [
            "(5120, 7168) (5120, 7168)\n",
            "IOU : 0.6761868320402503\n",
            "Model unet_90_20_model.............\n",
            "\n",
            "IOU : 0.6979098178180865\n",
            "search for intersect in  25 contours\n"
          ]
        },
        {
          "name": "stderr",
          "output_type": "stream",
          "text": [
            "100%|██████████| 25/25 [00:05<00:00,  4.68it/s]\n"
          ]
        },
        {
          "name": "stdout",
          "output_type": "stream",
          "text": [
            "(5120, 7168) (5120, 7168)\n",
            "IOU : 0.8367757683582807\n",
            "Model unet_90_20_model.............\n",
            "\n",
            "IOU : 0.5392659396630445\n",
            "search for intersect in  29 contours\n"
          ]
        },
        {
          "name": "stderr",
          "output_type": "stream",
          "text": [
            "100%|██████████| 29/29 [00:06<00:00,  4.68it/s]\n"
          ]
        },
        {
          "name": "stdout",
          "output_type": "stream",
          "text": [
            "(5120, 7168) (5120, 7168)\n",
            "IOU : 0.6754839208725809\n",
            "Model unet_90_20_model.............\n",
            "\n",
            "IOU : 0.12314620988390179\n",
            "search for intersect in  98 contours\n"
          ]
        },
        {
          "name": "stderr",
          "output_type": "stream",
          "text": [
            "100%|██████████| 98/98 [00:25<00:00,  3.89it/s]\n"
          ]
        },
        {
          "name": "stdout",
          "output_type": "stream",
          "text": [
            "(5120, 7168) (5120, 7168)\n",
            "IOU : 0.36175508491492214\n",
            "Model unet_90_20_model.............\n",
            "\n",
            "IOU : 0.49768175310277807\n",
            "search for intersect in  25 contours\n"
          ]
        },
        {
          "name": "stderr",
          "output_type": "stream",
          "text": [
            "100%|██████████| 25/25 [00:06<00:00,  3.82it/s]\n"
          ]
        },
        {
          "name": "stdout",
          "output_type": "stream",
          "text": [
            "(5120, 7168) (5120, 7168)\n",
            "IOU : 0.5787832040852959\n",
            "Model unet_90_20_model.............\n",
            "\n",
            "IOU : 0.3072946595495556\n",
            "search for intersect in  25 contours\n"
          ]
        },
        {
          "name": "stderr",
          "output_type": "stream",
          "text": [
            "100%|██████████| 25/25 [00:06<00:00,  4.16it/s]\n"
          ]
        },
        {
          "name": "stdout",
          "output_type": "stream",
          "text": [
            "(5120, 7168) (5120, 7168)\n",
            "IOU : 0.2888129427464193\n",
            "Model unet_90_20_model.............\n",
            "\n",
            "IOU : 0.3597120297010087\n",
            "search for intersect in  45 contours\n"
          ]
        },
        {
          "name": "stderr",
          "output_type": "stream",
          "text": [
            "100%|██████████| 45/45 [00:12<00:00,  3.63it/s]\n"
          ]
        },
        {
          "name": "stdout",
          "output_type": "stream",
          "text": [
            "(5120, 7168) (5120, 7168)\n",
            "IOU : 0.5078224405625742\n",
            "Model unet_90_20_model.............\n",
            "\n",
            "IOU : 0.7681780268132979\n",
            "search for intersect in  2 contours\n"
          ]
        },
        {
          "name": "stderr",
          "output_type": "stream",
          "text": [
            "100%|██████████| 2/2 [00:00<00:00, 92.40it/s]"
          ]
        },
        {
          "name": "stdout",
          "output_type": "stream",
          "text": [
            "(1536, 1024) (1536, 1024)\n",
            "IOU : 0.7582937557026882\n",
            "Model unet_90_20_model.............\n",
            "\n"
          ]
        },
        {
          "name": "stderr",
          "output_type": "stream",
          "text": [
            "\n"
          ]
        },
        {
          "name": "stdout",
          "output_type": "stream",
          "text": [
            "IOU : 0.40111430512343493\n",
            "search for intersect in  203 contours\n"
          ]
        },
        {
          "name": "stderr",
          "output_type": "stream",
          "text": [
            "100%|██████████| 203/203 [02:48<00:00,  1.21it/s]\n"
          ]
        },
        {
          "name": "stdout",
          "output_type": "stream",
          "text": [
            "(18944, 6656) (18944, 6656)\n",
            "IOU : 0.7645638557597526\n",
            "Model unet_90_20_model.............\n",
            "\n",
            "IOU : 0.2205243414011493\n",
            "search for intersect in  17 contours\n"
          ]
        },
        {
          "name": "stderr",
          "output_type": "stream",
          "text": [
            "100%|██████████| 17/17 [00:04<00:00,  4.18it/s]\n"
          ]
        },
        {
          "name": "stdout",
          "output_type": "stream",
          "text": [
            "(5120, 7168) (5120, 7168)\n",
            "IOU : 0.18285075021508537\n",
            "Model unet_90_20_model.............\n",
            "\n",
            "IOU : 0.3992057247169079\n",
            "search for intersect in  13 contours\n"
          ]
        },
        {
          "name": "stderr",
          "output_type": "stream",
          "text": [
            "100%|██████████| 13/13 [00:03<00:00,  3.64it/s]\n"
          ]
        },
        {
          "name": "stdout",
          "output_type": "stream",
          "text": [
            "(5120, 7168) (5120, 7168)\n",
            "IOU : 0.3489666760189767\n",
            "Model unet_90_20_model.............\n",
            "\n",
            "IOU : 0.37590911059379306\n",
            "search for intersect in  32 contours\n"
          ]
        },
        {
          "name": "stderr",
          "output_type": "stream",
          "text": [
            "100%|██████████| 32/32 [00:07<00:00,  4.12it/s]\n"
          ]
        },
        {
          "name": "stdout",
          "output_type": "stream",
          "text": [
            "(5120, 7168) (5120, 7168)\n",
            "IOU : 0.28388723916209974\n",
            "Model unet_90_20_model.............\n",
            "\n",
            "IOU : 0.13272975587680855\n",
            "search for intersect in  93 contours\n"
          ]
        },
        {
          "name": "stderr",
          "output_type": "stream",
          "text": [
            "100%|██████████| 93/93 [00:19<00:00,  4.67it/s]\n"
          ]
        },
        {
          "name": "stdout",
          "output_type": "stream",
          "text": [
            "(5120, 7168) (5120, 7168)\n",
            "IOU : 0.22147294752605903\n",
            "Model unet_90_20_model.............\n",
            "\n",
            "IOU : 0.349193840951716\n",
            "search for intersect in  55 contours\n"
          ]
        },
        {
          "name": "stderr",
          "output_type": "stream",
          "text": [
            "100%|██████████| 55/55 [00:11<00:00,  4.66it/s]\n"
          ]
        },
        {
          "name": "stdout",
          "output_type": "stream",
          "text": [
            "(5120, 7168) (5120, 7168)\n",
            "IOU : 0.38008114455305947\n",
            "Model unet_90_20_model.............\n",
            "\n",
            "IOU : 0.3855937775022873\n",
            "search for intersect in  87 contours\n"
          ]
        },
        {
          "name": "stderr",
          "output_type": "stream",
          "text": [
            "100%|██████████| 87/87 [00:21<00:00,  4.03it/s]\n"
          ]
        },
        {
          "name": "stdout",
          "output_type": "stream",
          "text": [
            "(5120, 7168) (5120, 7168)\n",
            "IOU : 0.8056816320749288\n",
            "Model unet_90_20_model.............\n",
            "\n",
            "IOU : 0.4799005559610056\n",
            "search for intersect in  2 contours\n"
          ]
        },
        {
          "name": "stderr",
          "output_type": "stream",
          "text": [
            "100%|██████████| 2/2 [00:00<00:00, 227.24it/s]"
          ]
        },
        {
          "name": "stdout",
          "output_type": "stream",
          "text": [
            "(1024, 512) (1024, 512)\n",
            "IOU : 0.4583612864156925\n",
            "Model unet_90_20_model.............\n",
            "\n"
          ]
        },
        {
          "name": "stderr",
          "output_type": "stream",
          "text": [
            "\n"
          ]
        },
        {
          "name": "stdout",
          "output_type": "stream",
          "text": [
            "IOU : 0.02390322783879707\n",
            "search for intersect in  9 contours\n"
          ]
        },
        {
          "name": "stderr",
          "output_type": "stream",
          "text": [
            "100%|██████████| 9/9 [00:00<00:00, 12.57it/s]\n"
          ]
        },
        {
          "name": "stdout",
          "output_type": "stream",
          "text": [
            "(3584, 3584) (3584, 3584)\n",
            "IOU : 0.036404174714484365\n",
            "Model unet_90_20_model.............\n",
            "\n",
            "IOU : 0.6504826558964223\n",
            "search for intersect in  1 contours\n"
          ]
        },
        {
          "name": "stderr",
          "output_type": "stream",
          "text": [
            "100%|██████████| 1/1 [00:00<00:00, 403.96it/s]"
          ]
        },
        {
          "name": "stdout",
          "output_type": "stream",
          "text": [
            "(512, 512) (512, 512)\n",
            "IOU : 0.6494798085466166\n",
            "Model unet_98_3_model.............\n",
            "\n"
          ]
        },
        {
          "name": "stderr",
          "output_type": "stream",
          "text": [
            "\n"
          ]
        },
        {
          "name": "stdout",
          "output_type": "stream",
          "text": [
            "IOU : 0.3978346664676973\n",
            "search for intersect in  181 contours\n"
          ]
        },
        {
          "name": "stderr",
          "output_type": "stream",
          "text": [
            "100%|██████████| 181/181 [02:50<00:00,  1.06it/s]\n"
          ]
        },
        {
          "name": "stdout",
          "output_type": "stream",
          "text": [
            "(6144, 25600) (6144, 25600)\n",
            "IOU : 0.6716604921890462\n",
            "Model unet_98_3_model.............\n",
            "\n",
            "IOU : 0.6516132227631691\n",
            "search for intersect in  49 contours\n"
          ]
        },
        {
          "name": "stderr",
          "output_type": "stream",
          "text": [
            "100%|██████████| 49/49 [00:31<00:00,  1.55it/s]\n"
          ]
        },
        {
          "name": "stdout",
          "output_type": "stream",
          "text": [
            "(16896, 6144) (16896, 6144)\n",
            "IOU : 0.7984774910843746\n",
            "Model unet_98_3_model.............\n",
            "\n",
            "IOU : 0.8186718874979512\n",
            "search for intersect in  9 contours\n"
          ]
        },
        {
          "name": "stderr",
          "output_type": "stream",
          "text": [
            "100%|██████████| 9/9 [00:06<00:00,  1.33it/s]\n"
          ]
        },
        {
          "name": "stdout",
          "output_type": "stream",
          "text": [
            "(5120, 23552) (5120, 23552)\n",
            "IOU : 0.8387583664635533\n",
            "Model unet_98_3_model.............\n",
            "\n",
            "IOU : 0.8103769747500041\n",
            "search for intersect in  5 contours\n"
          ]
        },
        {
          "name": "stderr",
          "output_type": "stream",
          "text": [
            "100%|██████████| 5/5 [00:00<00:00,  6.01it/s]\n"
          ]
        },
        {
          "name": "stdout",
          "output_type": "stream",
          "text": [
            "(4096, 6144) (4096, 6144)\n",
            "IOU : 0.6287036621527476\n",
            "Model unet_98_3_model.............\n",
            "\n",
            "IOU : 0.8149117049495481\n",
            "search for intersect in  3 contours\n"
          ]
        },
        {
          "name": "stderr",
          "output_type": "stream",
          "text": [
            "100%|██████████| 3/3 [00:00<00:00,  9.49it/s]\n"
          ]
        },
        {
          "name": "stdout",
          "output_type": "stream",
          "text": [
            "(5120, 3072) (5120, 3072)\n",
            "IOU : 0.8645253781452251\n",
            "Model unet_98_3_model.............\n",
            "\n",
            "IOU : 0.8332809823898096\n",
            "search for intersect in  5 contours\n"
          ]
        },
        {
          "name": "stderr",
          "output_type": "stream",
          "text": [
            "100%|██████████| 5/5 [00:02<00:00,  2.13it/s]\n"
          ]
        },
        {
          "name": "stdout",
          "output_type": "stream",
          "text": [
            "(5120, 11776) (5120, 11776)\n",
            "IOU : 0.8438431724109995\n",
            "Model unet_98_3_model.............\n",
            "\n",
            "IOU : 0.30905573531483066\n",
            "search for intersect in  51 contours\n"
          ]
        },
        {
          "name": "stderr",
          "output_type": "stream",
          "text": [
            "100%|██████████| 51/51 [00:11<00:00,  4.38it/s]\n"
          ]
        },
        {
          "name": "stdout",
          "output_type": "stream",
          "text": [
            "(5120, 7168) (5120, 7168)\n",
            "IOU : 0.6484967539519211\n",
            "Model unet_98_3_model.............\n",
            "\n",
            "IOU : 0.11525137745136622\n",
            "search for intersect in  96 contours\n"
          ]
        },
        {
          "name": "stderr",
          "output_type": "stream",
          "text": [
            "100%|██████████| 96/96 [00:21<00:00,  4.43it/s]\n"
          ]
        },
        {
          "name": "stdout",
          "output_type": "stream",
          "text": [
            "(5120, 7168) (5120, 7168)\n",
            "IOU : 0.8728346580189912\n",
            "Model unet_98_3_model.............\n",
            "\n",
            "IOU : 0.21777679431454303\n",
            "search for intersect in  91 contours\n"
          ]
        },
        {
          "name": "stderr",
          "output_type": "stream",
          "text": [
            "100%|██████████| 91/91 [00:20<00:00,  4.40it/s]\n"
          ]
        },
        {
          "name": "stdout",
          "output_type": "stream",
          "text": [
            "(5120, 7168) (5120, 7168)\n",
            "IOU : 0.7251505546990263\n",
            "Model unet_98_3_model.............\n",
            "\n",
            "IOU : 0.46508787255039763\n",
            "search for intersect in  81 contours\n"
          ]
        },
        {
          "name": "stderr",
          "output_type": "stream",
          "text": [
            "100%|██████████| 81/81 [00:17<00:00,  4.50it/s]\n"
          ]
        },
        {
          "name": "stdout",
          "output_type": "stream",
          "text": [
            "(5120, 7168) (5120, 7168)\n",
            "IOU : 0.8066918086607088\n",
            "Model unet_98_3_model.............\n",
            "\n",
            "IOU : 0.08379076005987182\n",
            "search for intersect in  114 contours\n"
          ]
        },
        {
          "name": "stderr",
          "output_type": "stream",
          "text": [
            "100%|██████████| 114/114 [00:25<00:00,  4.39it/s]\n"
          ]
        },
        {
          "name": "stdout",
          "output_type": "stream",
          "text": [
            "(5120, 7168) (5120, 7168)\n",
            "IOU : 0.301141391890697\n",
            "Model unet_98_3_model.............\n",
            "\n",
            "IOU : 0.35494539469448116\n",
            "search for intersect in  52 contours\n"
          ]
        },
        {
          "name": "stderr",
          "output_type": "stream",
          "text": [
            "100%|██████████| 52/52 [00:12<00:00,  4.31it/s]\n"
          ]
        },
        {
          "name": "stdout",
          "output_type": "stream",
          "text": [
            "(5120, 7168) (5120, 7168)\n",
            "IOU : 0.7170879017023103\n",
            "Model unet_98_3_model.............\n",
            "\n",
            "IOU : 0.41600006482373325\n",
            "search for intersect in  50 contours\n"
          ]
        },
        {
          "name": "stderr",
          "output_type": "stream",
          "text": [
            "100%|██████████| 50/50 [00:11<00:00,  4.41it/s]\n"
          ]
        },
        {
          "name": "stdout",
          "output_type": "stream",
          "text": [
            "(5120, 7168) (5120, 7168)\n",
            "IOU : 0.5994985123982755\n",
            "Model unet_98_3_model.............\n",
            "\n",
            "IOU : 0.24300565650565412\n",
            "search for intersect in  92 contours\n"
          ]
        },
        {
          "name": "stderr",
          "output_type": "stream",
          "text": [
            "100%|██████████| 92/92 [00:20<00:00,  4.41it/s]\n"
          ]
        },
        {
          "name": "stdout",
          "output_type": "stream",
          "text": [
            "(5120, 7168) (5120, 7168)\n",
            "IOU : 0.5217543478840504\n",
            "Model unet_98_3_model.............\n",
            "\n",
            "IOU : 0.8622821778423281\n",
            "search for intersect in  2 contours\n"
          ]
        },
        {
          "name": "stderr",
          "output_type": "stream",
          "text": [
            "100%|██████████| 2/2 [00:00<00:00, 96.38it/s]"
          ]
        },
        {
          "name": "stdout",
          "output_type": "stream",
          "text": [
            "(1536, 1024) (1536, 1024)\n",
            "IOU : 0.8585652525957695\n",
            "Model unet_98_3_model.............\n",
            "\n"
          ]
        },
        {
          "name": "stderr",
          "output_type": "stream",
          "text": [
            "\n"
          ]
        },
        {
          "name": "stdout",
          "output_type": "stream",
          "text": [
            "IOU : 0.5650953725892319\n",
            "search for intersect in  73 contours\n"
          ]
        },
        {
          "name": "stderr",
          "output_type": "stream",
          "text": [
            "100%|██████████| 73/73 [01:40<00:00,  1.38s/it]\n"
          ]
        },
        {
          "name": "stdout",
          "output_type": "stream",
          "text": [
            "(18944, 6656) (18944, 6656)\n",
            "IOU : 0.8014461651802458\n",
            "Model unet_98_3_model.............\n",
            "\n",
            "IOU : 0.4518825556178473\n",
            "search for intersect in  38 contours\n"
          ]
        },
        {
          "name": "stderr",
          "output_type": "stream",
          "text": [
            "100%|██████████| 38/38 [00:14<00:00,  2.62it/s]\n"
          ]
        },
        {
          "name": "stdout",
          "output_type": "stream",
          "text": [
            "(5120, 7168) (5120, 7168)\n",
            "IOU : 0.5547104030094937\n",
            "Model unet_98_3_model.............\n",
            "\n",
            "IOU : 0.5301604605303349\n",
            "search for intersect in  30 contours\n"
          ]
        },
        {
          "name": "stderr",
          "output_type": "stream",
          "text": [
            "100%|██████████| 30/30 [00:12<00:00,  2.36it/s]\n"
          ]
        },
        {
          "name": "stdout",
          "output_type": "stream",
          "text": [
            "(5120, 7168) (5120, 7168)\n",
            "IOU : 0.6456830369315599\n",
            "Model unet_98_3_model.............\n",
            "\n",
            "IOU : 0.20701988643703456\n",
            "search for intersect in  91 contours\n"
          ]
        },
        {
          "name": "stderr",
          "output_type": "stream",
          "text": [
            "100%|██████████| 91/91 [00:34<00:00,  2.62it/s]\n"
          ]
        },
        {
          "name": "stdout",
          "output_type": "stream",
          "text": [
            "(5120, 7168) (5120, 7168)\n",
            "IOU : 0.570762735734503\n",
            "Model unet_98_3_model.............\n",
            "\n",
            "IOU : 0.12835931487027072\n",
            "search for intersect in  90 contours\n"
          ]
        },
        {
          "name": "stderr",
          "output_type": "stream",
          "text": [
            "100%|██████████| 90/90 [00:28<00:00,  3.12it/s]\n"
          ]
        },
        {
          "name": "stdout",
          "output_type": "stream",
          "text": [
            "(5120, 7168) (5120, 7168)\n",
            "IOU : 0.2417185370850873\n",
            "Model unet_98_3_model.............\n",
            "\n",
            "IOU : 0.09631251727839828\n",
            "search for intersect in  47 contours\n"
          ]
        },
        {
          "name": "stderr",
          "output_type": "stream",
          "text": [
            "100%|██████████| 47/47 [00:10<00:00,  4.44it/s]\n"
          ]
        },
        {
          "name": "stdout",
          "output_type": "stream",
          "text": [
            "(5120, 7168) (5120, 7168)\n",
            "IOU : 0.44542064725885866\n",
            "Model unet_98_3_model.............\n",
            "\n",
            "IOU : 0.20570480907644012\n",
            "search for intersect in  69 contours\n"
          ]
        },
        {
          "name": "stderr",
          "output_type": "stream",
          "text": [
            "100%|██████████| 69/69 [00:15<00:00,  4.36it/s]\n"
          ]
        },
        {
          "name": "stdout",
          "output_type": "stream",
          "text": [
            "(5120, 7168) (5120, 7168)\n",
            "IOU : 0.6096747563927704\n",
            "Model unet_98_3_model.............\n",
            "\n",
            "IOU : 0.8724412254282485\n",
            "search for intersect in  1 contours\n"
          ]
        },
        {
          "name": "stderr",
          "output_type": "stream",
          "text": [
            "100%|██████████| 1/1 [00:00<00:00, 234.04it/s]\n"
          ]
        },
        {
          "name": "stdout",
          "output_type": "stream",
          "text": [
            "(1024, 512) (1024, 512)\n",
            "IOU : 0.8763609171926182\n",
            "Model unet_98_3_model.............\n",
            "\n",
            "IOU : 0.09983378934394488\n",
            "search for intersect in  18 contours\n"
          ]
        },
        {
          "name": "stderr",
          "output_type": "stream",
          "text": [
            "100%|██████████| 18/18 [00:01<00:00, 11.48it/s]\n"
          ]
        },
        {
          "name": "stdout",
          "output_type": "stream",
          "text": [
            "(3584, 3584) (3584, 3584)\n",
            "IOU : 0.1771197535213119\n",
            "Model unet_98_3_model.............\n",
            "\n",
            "IOU : 0.876888792771107\n",
            "search for intersect in  1 contours\n"
          ]
        },
        {
          "name": "stderr",
          "output_type": "stream",
          "text": [
            "100%|██████████| 1/1 [00:00<00:00, 399.42it/s]"
          ]
        },
        {
          "name": "stdout",
          "output_type": "stream",
          "text": [
            "(512, 512) (512, 512)\n",
            "IOU : 0.877599781764136\n"
          ]
        },
        {
          "name": "stderr",
          "output_type": "stream",
          "text": [
            "\n"
          ]
        }
      ],
      "source": [
        "# iterate over the images to do:\n",
        "# 1- border to each images\n",
        "# 2- process the mask image\n",
        "# 3- merge mask with main image\n",
        "# 4- merge predicted mask with main image\n",
        "\n",
        "# create dataFrame to save the testing results\n",
        "\n",
        "columns = ['img_name', 'models_name', 'iou_before', 'iou_after']\n",
        "\n",
        "df_result = pd.DataFrame([], columns=columns)\n",
        "df_result\n",
        "\n",
        "result_after_proc_dir = 'whole_slide_mask_before_after/'\n",
        "\n",
        "for idx, row in df[~(df['models_name'].isin(['VGG_unet_90_20_model', 'unet_100_0_model', 'res_unet_100_0_model']))].iterrows():\n",
        "    print(f'Model {df.iloc[idx][\"models_name\"]}.............\\n')\n",
        "    # create folders for each model\n",
        "    \n",
        "    if not os.path.exists(result_after_proc_dir):\n",
        "        os.mkdir(result_after_proc_dir)\n",
        "\n",
        "    if not os.path.exists(f'{result_after_proc_dir}{df.iloc[idx][\"models_name\"]}'):\n",
        "        os.mkdir(f'{result_after_proc_dir}{df.iloc[idx][\"models_name\"]}')\n",
        "\n",
        "    # create folder for each ROI\n",
        "    if not os.path.exists(f'{result_after_proc_dir}{df.iloc[idx][\"models_name\"]}/{df.iloc[idx][\"img_name\"]}'):\n",
        "        os.mkdir(f'{result_after_proc_dir}{df.iloc[idx][\"models_name\"]}/{df.iloc[idx][\"img_name\"]}')\n",
        "\n",
        "    # get processed mask\n",
        "\n",
        "    iou_before, result_before, iou_after, result_after, processed_msk =  utils.calculate_iou_processed_mask(df.iloc[idx])\n",
        "    # processed_msk = utils.get_processed_predMask(df.iloc[idx]) \n",
        "    data_row = []\n",
        "    data_row.append(row['img_name'])\n",
        "    data_row.append(row['models_name'])\n",
        "    data_row.append(iou_before)\n",
        "    data_row.append(iou_after)\n",
        "    df_result.loc[len(df_result)] = data_row\n",
        "\n",
        "    path = f'{result_after_proc_dir}{data_row[1]}/{data_row[0]}'\n",
        "\n",
        "    cv2.imwrite(f'{path}/{data_row[0]}_processed_mask.png',processed_msk) # save the processed mask\n",
        "\n",
        "    cv2.imwrite(f'{path}/{data_row[0]}_iou_before.png',result_before) # save the processed mask\n",
        "    cv2.imwrite(f'{path}/{data_row[0]}_iou_after.png',result_after) # save the processed mask\n",
        "    # merge image with processed mask\n",
        "    # img = utils.get_patchifiable(cv2.imread(df.iloc[idx]['img_path']))\n",
        "\n",
        "\n",
        "    # pred_pre = utils.get_patchifiable(cv2.imread(df.iloc[idx][3],0))\n",
        "    # merged_before_processing = utils.get_merged_img(img, pred_pre)\n",
        "    # cv2.imwrite(f'{path}/{data_row[0]}_merged_before_processing.tiff',merged_before_processing)\n",
        "\n",
        "    \n",
        "    # merged_after_processing = utils.get_merged_img(img, processed_msk)\n",
        "    # cv2.imwrite(f'{path}/{data_row[0]}_merged_after_processing.tiff',merged_after_processing) # save the processed mask\n",
        "\n",
        "\n"
      ]
    },
    {
      "cell_type": "code",
      "execution_count": 37,
      "metadata": {},
      "outputs": [
        {
          "data": {
            "text/html": [
              "<div>\n",
              "<style scoped>\n",
              "    .dataframe tbody tr th:only-of-type {\n",
              "        vertical-align: middle;\n",
              "    }\n",
              "\n",
              "    .dataframe tbody tr th {\n",
              "        vertical-align: top;\n",
              "    }\n",
              "\n",
              "    .dataframe thead th {\n",
              "        text-align: right;\n",
              "    }\n",
              "</style>\n",
              "<table border=\"1\" class=\"dataframe\">\n",
              "  <thead>\n",
              "    <tr style=\"text-align: right;\">\n",
              "      <th></th>\n",
              "      <th>img_name</th>\n",
              "      <th>models_name</th>\n",
              "      <th>iou_before</th>\n",
              "      <th>iou_after</th>\n",
              "    </tr>\n",
              "  </thead>\n",
              "  <tbody>\n",
              "    <tr>\n",
              "      <th>0</th>\n",
              "      <td>102</td>\n",
              "      <td>VGG_unet_90_20_model</td>\n",
              "      <td>0.308638</td>\n",
              "      <td>0.310138</td>\n",
              "    </tr>\n",
              "    <tr>\n",
              "      <th>1</th>\n",
              "      <td>121</td>\n",
              "      <td>VGG_unet_90_20_model</td>\n",
              "      <td>0.772153</td>\n",
              "      <td>0.818498</td>\n",
              "    </tr>\n",
              "    <tr>\n",
              "      <th>2</th>\n",
              "      <td>201</td>\n",
              "      <td>VGG_unet_90_20_model</td>\n",
              "      <td>0.875295</td>\n",
              "      <td>0.897302</td>\n",
              "    </tr>\n",
              "    <tr>\n",
              "      <th>3</th>\n",
              "      <td>202</td>\n",
              "      <td>VGG_unet_90_20_model</td>\n",
              "      <td>0.813242</td>\n",
              "      <td>0.634915</td>\n",
              "    </tr>\n",
              "    <tr>\n",
              "      <th>4</th>\n",
              "      <td>203</td>\n",
              "      <td>VGG_unet_90_20_model</td>\n",
              "      <td>0.802578</td>\n",
              "      <td>0.887642</td>\n",
              "    </tr>\n",
              "    <tr>\n",
              "      <th>...</th>\n",
              "      <td>...</td>\n",
              "      <td>...</td>\n",
              "      <td>...</td>\n",
              "      <td>...</td>\n",
              "    </tr>\n",
              "    <tr>\n",
              "      <th>145</th>\n",
              "      <td>395</td>\n",
              "      <td>unet_98_3_model</td>\n",
              "      <td>0.096313</td>\n",
              "      <td>0.445421</td>\n",
              "    </tr>\n",
              "    <tr>\n",
              "      <th>146</th>\n",
              "      <td>399</td>\n",
              "      <td>unet_98_3_model</td>\n",
              "      <td>0.205705</td>\n",
              "      <td>0.609675</td>\n",
              "    </tr>\n",
              "    <tr>\n",
              "      <th>147</th>\n",
              "      <td>401</td>\n",
              "      <td>unet_98_3_model</td>\n",
              "      <td>0.872441</td>\n",
              "      <td>0.876361</td>\n",
              "    </tr>\n",
              "    <tr>\n",
              "      <th>148</th>\n",
              "      <td>402</td>\n",
              "      <td>unet_98_3_model</td>\n",
              "      <td>0.099834</td>\n",
              "      <td>0.177120</td>\n",
              "    </tr>\n",
              "    <tr>\n",
              "      <th>149</th>\n",
              "      <td>403</td>\n",
              "      <td>unet_98_3_model</td>\n",
              "      <td>0.876889</td>\n",
              "      <td>0.877600</td>\n",
              "    </tr>\n",
              "  </tbody>\n",
              "</table>\n",
              "<p>150 rows × 4 columns</p>\n",
              "</div>"
            ],
            "text/plain": [
              "    img_name           models_name  iou_before  iou_after\n",
              "0        102  VGG_unet_90_20_model    0.308638   0.310138\n",
              "1        121  VGG_unet_90_20_model    0.772153   0.818498\n",
              "2        201  VGG_unet_90_20_model    0.875295   0.897302\n",
              "3        202  VGG_unet_90_20_model    0.813242   0.634915\n",
              "4        203  VGG_unet_90_20_model    0.802578   0.887642\n",
              "..       ...                   ...         ...        ...\n",
              "145      395       unet_98_3_model    0.096313   0.445421\n",
              "146      399       unet_98_3_model    0.205705   0.609675\n",
              "147      401       unet_98_3_model    0.872441   0.876361\n",
              "148      402       unet_98_3_model    0.099834   0.177120\n",
              "149      403       unet_98_3_model    0.876889   0.877600\n",
              "\n",
              "[150 rows x 4 columns]"
            ]
          },
          "execution_count": 37,
          "metadata": {},
          "output_type": "execute_result"
        }
      ],
      "source": [
        "df_result"
      ]
    },
    {
      "cell_type": "code",
      "execution_count": 36,
      "metadata": {},
      "outputs": [],
      "source": [
        "df_result.to_csv('all_models_results.csv', index=False)"
      ]
    }
  ],
  "metadata": {
    "accelerator": "GPU",
    "colab": {
      "provenance": []
    },
    "kernelspec": {
      "display_name": "Python 3",
      "name": "python3"
    },
    "language_info": {
      "codemirror_mode": {
        "name": "ipython",
        "version": 3
      },
      "file_extension": ".py",
      "mimetype": "text/x-python",
      "name": "python",
      "nbconvert_exporter": "python",
      "pygments_lexer": "ipython3",
      "version": "3.9.7"
    }
  },
  "nbformat": 4,
  "nbformat_minor": 0
}
