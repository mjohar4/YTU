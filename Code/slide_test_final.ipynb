{
 "cells": [
  {
   "attachments": {},
   "cell_type": "markdown",
   "metadata": {
    "id": "iPOIem2VRZJp"
   },
   "source": [
    "#### install packages / import Libraries:"
   ]
  },
  {
   "cell_type": "code",
   "execution_count": 2,
   "metadata": {
    "id": "RGyqHM0jAqFL"
   },
   "outputs": [
    {
     "name": "stderr",
     "output_type": "stream",
     "text": [
      "c:\\Users\\Administrator\\anaconda3\\lib\\site-packages\\scipy\\__init__.py:146: UserWarning: A NumPy version >=1.16.5 and <1.23.0 is required for this version of SciPy (detected version 1.24.3\n",
      "  warnings.warn(f\"A NumPy version >={np_minversion} and <{np_maxversion}\"\n"
     ]
    }
   ],
   "source": [
    "import numpy as np\n",
    "import matplotlib.pyplot as plt\n",
    "import os\n",
    "from PIL import Image\n",
    "from keras import backend as K\n",
    "import tensorflow as tf\n",
    "import cv2\n",
    "import pandas as pd\n",
    "import math\n",
    "from patchify import patchify,unpatchify\n",
    "import tifffile as tif\n",
    "from tqdm import tqdm\n",
    "import time\n",
    "import pyvips\n",
    "from datetime import datetime\n",
    "import datetime as dt\n",
    "import pyvips\n",
    "import utils"
   ]
  },
  {
   "attachments": {},
   "cell_type": "markdown",
   "metadata": {
    "id": "PZss8qphIx0u"
   },
   "source": [
    "#### Functions"
   ]
  },
  {
   "cell_type": "code",
   "execution_count": 3,
   "metadata": {
    "colab": {
     "base_uri": "https://localhost:8080/",
     "height": 364
    },
    "id": "TrtVf6QTB3oF",
    "outputId": "68635c46-041d-46ae-aae8-c7dccaf86e12"
   },
   "outputs": [],
   "source": [
    "def load_external_test_slides_to_df(root = 'test_images/'):\n",
    "    file_dir = sorted(os.listdir(root))\n",
    "    dir_path = [root + x for x in file_dir if x!='desktop.ini']\n",
    "    ext_test_imgs_df = pd.DataFrame()\n",
    "    img_path_list = []\n",
    "    gt_path_list = []\n",
    "    img_dim_list = []\n",
    "    gt_dim_list = []\n",
    "    img_dim_list = []\n",
    "    gt_dim_list = []\n",
    "    for dr in dir_path:\n",
    "        contents = sorted(os.listdir(dr))\n",
    "        img_path_list.append(dr+'/'+contents[0])\n",
    "        gt_path_list.append(dr+'/'+contents[1])\n",
    "\n",
    "    for img_path, gt_path in zip(img_path_list,gt_path_list):\n",
    "        img = pyvips.Image.tiffload(img_path)\n",
    "        gt = pyvips.Image.tiffload(gt_path)\n",
    "        img_dim = (img.height,img.width)\n",
    "        gt_dim = (gt.height,gt.width)\n",
    "        img_dim_list.append(img_dim)\n",
    "        gt_dim_list.append(gt_dim)\n",
    "        del img\n",
    "        del gt\n",
    "\n",
    "\n",
    "        \n",
    "    ext_test_imgs_df['img_file'] = [fname.split('/')[-1] for fname in img_path_list]\n",
    "    ext_test_imgs_df['gt_file'] = [fname.split('/')[-1] for fname in gt_path_list]\n",
    "    ext_test_imgs_df['img_path'] = img_path_list\n",
    "    ext_test_imgs_df['gt_path'] = gt_path_list\n",
    "\n",
    "    ext_test_imgs_df['img_dims'] = img_dim_list\n",
    "    ext_test_imgs_df['gt_dims'] = gt_dim_list\n",
    "\n",
    "\n",
    "    return ext_test_imgs_df"
   ]
  },
  {
   "cell_type": "code",
   "execution_count": 4,
   "metadata": {
    "colab": {
     "base_uri": "https://localhost:8080/",
     "height": 250
    },
    "id": "Uy-3vfOZ5qDW",
    "outputId": "f03d98ad-72a6-4d5e-fa5a-f6f77ce6b818"
   },
   "outputs": [],
   "source": [
    "def load_dataset_test_slides_to_df(img_root = 'test_tiff/'):\n",
    "    gt_root = 'test_dataset_mask/'\n",
    "    img_files_dir = sorted(os.listdir(img_root))\n",
    "    gt_files_dir = sorted(os.listdir(gt_root))\n",
    "    img_paths_list = [img_root + x for x in img_files_dir if x!='desktop.ini']\n",
    "    gt_paths_list = [gt_root + x for x in gt_files_dir if x!='desktop.ini']\n",
    "    img_dim_list = []\n",
    "    gt_dim_list = []\n",
    "    dataset_test_imgs_df = pd.DataFrame()\n",
    "    for img_path, gt_path in zip(img_paths_list,gt_paths_list):\n",
    "        img = pyvips.Image.tiffload(img_path)\n",
    "        gt = pyvips.Image.tiffload(gt_path)\n",
    "        img_dim = (img.height,img.width)\n",
    "        gt_dim = (gt.height,gt.width)\n",
    "        img_dim_list.append(img_dim)\n",
    "        gt_dim_list.append(gt_dim)\n",
    "\n",
    "    dataset_test_imgs_df['img_file'] = [fname.split('/')[-1] for fname in img_paths_list]\n",
    "    dataset_test_imgs_df['img_path'] = img_paths_list\n",
    "    dataset_test_imgs_df['img_dims'] = img_dim_list\n",
    "    dataset_test_imgs_df['gt_file'] = [fname.split('/')[-1] for fname in gt_paths_list]\n",
    "    dataset_test_imgs_df['gt_path'] = gt_paths_list\n",
    "    dataset_test_imgs_df['gt_dims'] = gt_dim_list\n",
    "    return dataset_test_imgs_df"
   ]
  },
  {
   "cell_type": "code",
   "execution_count": 5,
   "metadata": {
    "colab": {
     "base_uri": "https://localhost:8080/"
    },
    "id": "ExiTquGgBRe9",
    "outputId": "42af9266-0cd4-4972-f2fe-208658cc496e"
   },
   "outputs": [],
   "source": [
    "def load_models(root = 'models/'):\n",
    "    unet_all_model = tf.keras.models.load_model(root+'unet_all.h5', custom_objects={'mean_iou':utils.mean_iou})\n",
    "    unet_filtered_98_3_model = tf.keras.models.load_model(root+'unet_filtered_98-3.h5', custom_objects={'mean_iou':utils.mean_iou})\n",
    "    unet_filtered_90_20_model = tf.keras.models.load_model(root+'unet_filtered_90-20.h5', custom_objects={'mean_iou':utils.mean_iou})\n",
    "    unet_filtered_100_50_model = tf.keras.models.load_model(root+'unet_filtered_100-50.h5', custom_objects={'mean_iou':utils.mean_iou})\n",
    "    VGG_unet_filtered_90_20_model = tf.keras.models.load_model(root+'VGG_unet_filtered_90-20.h5', custom_objects={'mean_iou':utils.mean_iou,'dice_loss':utils.dice_loss})\n",
    "    res_unet_100_0_model = tf.keras.models.load_model(root+'res_unet_100_0.h5', custom_objects={'mean_iou':utils.mean_iou})\n",
    "\n",
    "    models = {\n",
    "        'unet_100_0_model':{'model':unet_all_model, 'name':'Unet','trained_dataset_range':(0,100) },\n",
    "        'unet_98_3_model':{'model':unet_filtered_98_3_model, 'name':'Unet','trained_dataset_range':(3,98) },\n",
    "        'unet_90_20_model':{'model':unet_filtered_90_20_model, 'name':'Unet','trained_dataset_range':(20,90) },\n",
    "        'unet_100_50_model':{'model':unet_filtered_100_50_model, 'name':'Unet','trained_dataset_range':(50,100) },\n",
    "        'VGG_unet_90_20_model':{'model':VGG_unet_filtered_90_20_model, 'name':'VGG_Unet','trained_dataset_range':(20,90) },\n",
    "        'res_unet_100_0_model':{'model':res_unet_100_0_model, 'name':'Res_Unet','trained_dataset_range':(0,100) },\n",
    "    }\n",
    "    return models"
   ]
  },
  {
   "cell_type": "code",
   "execution_count": 6,
   "metadata": {},
   "outputs": [
    {
     "data": {
      "text/html": [
       "<div>\n",
       "<style scoped>\n",
       "    .dataframe tbody tr th:only-of-type {\n",
       "        vertical-align: middle;\n",
       "    }\n",
       "\n",
       "    .dataframe tbody tr th {\n",
       "        vertical-align: top;\n",
       "    }\n",
       "\n",
       "    .dataframe thead th {\n",
       "        text-align: right;\n",
       "    }\n",
       "</style>\n",
       "<table border=\"1\" class=\"dataframe\">\n",
       "  <thead>\n",
       "    <tr style=\"text-align: right;\">\n",
       "      <th></th>\n",
       "      <th>img_file</th>\n",
       "      <th>gt_file</th>\n",
       "      <th>img_path</th>\n",
       "      <th>gt_path</th>\n",
       "      <th>img_dims</th>\n",
       "      <th>gt_dims</th>\n",
       "    </tr>\n",
       "  </thead>\n",
       "  <tbody>\n",
       "    <tr>\n",
       "      <th>0</th>\n",
       "      <td>102.tif</td>\n",
       "      <td>102_mask.tiff</td>\n",
       "      <td>test_images/102/102.tif</td>\n",
       "      <td>test_images/102/102_mask.tiff</td>\n",
       "      <td>(6397, 26002)</td>\n",
       "      <td>(6397, 26002)</td>\n",
       "    </tr>\n",
       "    <tr>\n",
       "      <th>1</th>\n",
       "      <td>121.tif</td>\n",
       "      <td>121_mask.tiff</td>\n",
       "      <td>test_images/121/121.tif</td>\n",
       "      <td>test_images/121/121_mask.tiff</td>\n",
       "      <td>(17176, 6573)</td>\n",
       "      <td>(17176, 6573)</td>\n",
       "    </tr>\n",
       "    <tr>\n",
       "      <th>2</th>\n",
       "      <td>201.tif</td>\n",
       "      <td>201_mask.tiff</td>\n",
       "      <td>test_images/201/201.tif</td>\n",
       "      <td>test_images/201/201_mask.tiff</td>\n",
       "      <td>(5461, 23871)</td>\n",
       "      <td>(5461, 23871)</td>\n",
       "    </tr>\n",
       "    <tr>\n",
       "      <th>3</th>\n",
       "      <td>202.tif</td>\n",
       "      <td>202_mask.tiff</td>\n",
       "      <td>test_images/202/202.tif</td>\n",
       "      <td>test_images/202/202_mask.tiff</td>\n",
       "      <td>(4371, 6179)</td>\n",
       "      <td>(4371, 6179)</td>\n",
       "    </tr>\n",
       "    <tr>\n",
       "      <th>4</th>\n",
       "      <td>203.tif</td>\n",
       "      <td>203_mask.tiff</td>\n",
       "      <td>test_images/203/203.tif</td>\n",
       "      <td>test_images/203/203_mask.tiff</td>\n",
       "      <td>(5591, 3546)</td>\n",
       "      <td>(5591, 3546)</td>\n",
       "    </tr>\n",
       "    <tr>\n",
       "      <th>5</th>\n",
       "      <td>204.tif</td>\n",
       "      <td>204_mask.tiff</td>\n",
       "      <td>test_images/204/204.tif</td>\n",
       "      <td>test_images/204/204_mask.tiff</td>\n",
       "      <td>(5253, 12053)</td>\n",
       "      <td>(5253, 12053)</td>\n",
       "    </tr>\n",
       "    <tr>\n",
       "      <th>6</th>\n",
       "      <td>355.tiff</td>\n",
       "      <td>355_mask.tiff</td>\n",
       "      <td>test_images/355/355.tiff</td>\n",
       "      <td>test_images/355/355_mask.tiff</td>\n",
       "      <td>(5412, 7215)</td>\n",
       "      <td>(5412, 7215)</td>\n",
       "    </tr>\n",
       "    <tr>\n",
       "      <th>7</th>\n",
       "      <td>356.tiff</td>\n",
       "      <td>356_mask.tiff</td>\n",
       "      <td>test_images/356/356.tiff</td>\n",
       "      <td>test_images/356/356_mask.tiff</td>\n",
       "      <td>(5412, 7215)</td>\n",
       "      <td>(5412, 7215)</td>\n",
       "    </tr>\n",
       "    <tr>\n",
       "      <th>8</th>\n",
       "      <td>358.tiff</td>\n",
       "      <td>358_mask.tiff</td>\n",
       "      <td>test_images/358/358.tiff</td>\n",
       "      <td>test_images/358/358_mask.tiff</td>\n",
       "      <td>(5412, 7215)</td>\n",
       "      <td>(5412, 7215)</td>\n",
       "    </tr>\n",
       "    <tr>\n",
       "      <th>9</th>\n",
       "      <td>359.tiff</td>\n",
       "      <td>359_mask.tiff</td>\n",
       "      <td>test_images/359/359.tiff</td>\n",
       "      <td>test_images/359/359_mask.tiff</td>\n",
       "      <td>(5412, 7215)</td>\n",
       "      <td>(5412, 7215)</td>\n",
       "    </tr>\n",
       "    <tr>\n",
       "      <th>10</th>\n",
       "      <td>364.tiff</td>\n",
       "      <td>364_mask.tiff</td>\n",
       "      <td>test_images/364/364.tiff</td>\n",
       "      <td>test_images/364/364_mask.tiff</td>\n",
       "      <td>(5412, 7215)</td>\n",
       "      <td>(5412, 7215)</td>\n",
       "    </tr>\n",
       "    <tr>\n",
       "      <th>11</th>\n",
       "      <td>365.tiff</td>\n",
       "      <td>365_mask.tiff</td>\n",
       "      <td>test_images/365/365.tiff</td>\n",
       "      <td>test_images/365/365_mask.tiff</td>\n",
       "      <td>(5412, 7215)</td>\n",
       "      <td>(5412, 7215)</td>\n",
       "    </tr>\n",
       "    <tr>\n",
       "      <th>12</th>\n",
       "      <td>367.tiff</td>\n",
       "      <td>367_mask.tiff</td>\n",
       "      <td>test_images/367/367.tiff</td>\n",
       "      <td>test_images/367/367_mask.tiff</td>\n",
       "      <td>(5412, 7215)</td>\n",
       "      <td>(5412, 7215)</td>\n",
       "    </tr>\n",
       "    <tr>\n",
       "      <th>13</th>\n",
       "      <td>368.tiff</td>\n",
       "      <td>368_mask.tiff</td>\n",
       "      <td>test_images/368/368.tiff</td>\n",
       "      <td>test_images/368/368_mask.tiff</td>\n",
       "      <td>(5412, 7215)</td>\n",
       "      <td>(5412, 7215)</td>\n",
       "    </tr>\n",
       "    <tr>\n",
       "      <th>14</th>\n",
       "      <td>371.tif</td>\n",
       "      <td>371_mask.tiff</td>\n",
       "      <td>test_images/371/371.tif</td>\n",
       "      <td>test_images/371/371_mask.tiff</td>\n",
       "      <td>(1575, 1267)</td>\n",
       "      <td>(1575, 1267)</td>\n",
       "    </tr>\n",
       "    <tr>\n",
       "      <th>15</th>\n",
       "      <td>372.tif</td>\n",
       "      <td>372_mask.tiff</td>\n",
       "      <td>test_images/372/372.tif</td>\n",
       "      <td>test_images/372/372_mask.tiff</td>\n",
       "      <td>(19318, 7152)</td>\n",
       "      <td>(19318, 7152)</td>\n",
       "    </tr>\n",
       "    <tr>\n",
       "      <th>16</th>\n",
       "      <td>373.tiff</td>\n",
       "      <td>373_mask.tiff</td>\n",
       "      <td>test_images/373/373.tiff</td>\n",
       "      <td>test_images/373/373_mask.tiff</td>\n",
       "      <td>(5412, 7215)</td>\n",
       "      <td>(5412, 7215)</td>\n",
       "    </tr>\n",
       "    <tr>\n",
       "      <th>17</th>\n",
       "      <td>374.tiff</td>\n",
       "      <td>374_mask.tiff</td>\n",
       "      <td>test_images/374/374.tiff</td>\n",
       "      <td>test_images/374/374_mask.tiff</td>\n",
       "      <td>(5412, 7215)</td>\n",
       "      <td>(5412, 7215)</td>\n",
       "    </tr>\n",
       "    <tr>\n",
       "      <th>18</th>\n",
       "      <td>377.tiff</td>\n",
       "      <td>377_mask.tiff</td>\n",
       "      <td>test_images/377/377.tiff</td>\n",
       "      <td>test_images/377/377_mask.tiff</td>\n",
       "      <td>(5412, 7215)</td>\n",
       "      <td>(5412, 7215)</td>\n",
       "    </tr>\n",
       "    <tr>\n",
       "      <th>19</th>\n",
       "      <td>384.tiff</td>\n",
       "      <td>384_mask.tiff</td>\n",
       "      <td>test_images/384/384.tiff</td>\n",
       "      <td>test_images/384/384_mask.tiff</td>\n",
       "      <td>(5412, 7215)</td>\n",
       "      <td>(5412, 7215)</td>\n",
       "    </tr>\n",
       "    <tr>\n",
       "      <th>20</th>\n",
       "      <td>395.tiff</td>\n",
       "      <td>395_mask.tiff</td>\n",
       "      <td>test_images/395/395.tiff</td>\n",
       "      <td>test_images/395/395_mask.tiff</td>\n",
       "      <td>(5412, 7215)</td>\n",
       "      <td>(5412, 7215)</td>\n",
       "    </tr>\n",
       "    <tr>\n",
       "      <th>21</th>\n",
       "      <td>399.tiff</td>\n",
       "      <td>399_mask.tiff</td>\n",
       "      <td>test_images/399/399.tiff</td>\n",
       "      <td>test_images/399/399_mask.tiff</td>\n",
       "      <td>(5412, 7215)</td>\n",
       "      <td>(5412, 7215)</td>\n",
       "    </tr>\n",
       "    <tr>\n",
       "      <th>22</th>\n",
       "      <td>401.tif</td>\n",
       "      <td>401_mask.tiff</td>\n",
       "      <td>test_images/401/401.tif</td>\n",
       "      <td>test_images/401/401_mask.tiff</td>\n",
       "      <td>(1127, 805)</td>\n",
       "      <td>(1127, 805)</td>\n",
       "    </tr>\n",
       "    <tr>\n",
       "      <th>23</th>\n",
       "      <td>402.tif</td>\n",
       "      <td>402_mask.tiff</td>\n",
       "      <td>test_images/402/402.tif</td>\n",
       "      <td>test_images/402/402_mask.tiff</td>\n",
       "      <td>(3656, 4021)</td>\n",
       "      <td>(3656, 4012)</td>\n",
       "    </tr>\n",
       "    <tr>\n",
       "      <th>24</th>\n",
       "      <td>403.tif</td>\n",
       "      <td>403_mask.tiff</td>\n",
       "      <td>test_images/403/403.tif</td>\n",
       "      <td>test_images/403/403_mask.tiff</td>\n",
       "      <td>(746, 772)</td>\n",
       "      <td>(746, 772)</td>\n",
       "    </tr>\n",
       "  </tbody>\n",
       "</table>\n",
       "</div>"
      ],
      "text/plain": [
       "    img_file        gt_file                  img_path  \\\n",
       "0    102.tif  102_mask.tiff   test_images/102/102.tif   \n",
       "1    121.tif  121_mask.tiff   test_images/121/121.tif   \n",
       "2    201.tif  201_mask.tiff   test_images/201/201.tif   \n",
       "3    202.tif  202_mask.tiff   test_images/202/202.tif   \n",
       "4    203.tif  203_mask.tiff   test_images/203/203.tif   \n",
       "5    204.tif  204_mask.tiff   test_images/204/204.tif   \n",
       "6   355.tiff  355_mask.tiff  test_images/355/355.tiff   \n",
       "7   356.tiff  356_mask.tiff  test_images/356/356.tiff   \n",
       "8   358.tiff  358_mask.tiff  test_images/358/358.tiff   \n",
       "9   359.tiff  359_mask.tiff  test_images/359/359.tiff   \n",
       "10  364.tiff  364_mask.tiff  test_images/364/364.tiff   \n",
       "11  365.tiff  365_mask.tiff  test_images/365/365.tiff   \n",
       "12  367.tiff  367_mask.tiff  test_images/367/367.tiff   \n",
       "13  368.tiff  368_mask.tiff  test_images/368/368.tiff   \n",
       "14   371.tif  371_mask.tiff   test_images/371/371.tif   \n",
       "15   372.tif  372_mask.tiff   test_images/372/372.tif   \n",
       "16  373.tiff  373_mask.tiff  test_images/373/373.tiff   \n",
       "17  374.tiff  374_mask.tiff  test_images/374/374.tiff   \n",
       "18  377.tiff  377_mask.tiff  test_images/377/377.tiff   \n",
       "19  384.tiff  384_mask.tiff  test_images/384/384.tiff   \n",
       "20  395.tiff  395_mask.tiff  test_images/395/395.tiff   \n",
       "21  399.tiff  399_mask.tiff  test_images/399/399.tiff   \n",
       "22   401.tif  401_mask.tiff   test_images/401/401.tif   \n",
       "23   402.tif  402_mask.tiff   test_images/402/402.tif   \n",
       "24   403.tif  403_mask.tiff   test_images/403/403.tif   \n",
       "\n",
       "                          gt_path       img_dims        gt_dims  \n",
       "0   test_images/102/102_mask.tiff  (6397, 26002)  (6397, 26002)  \n",
       "1   test_images/121/121_mask.tiff  (17176, 6573)  (17176, 6573)  \n",
       "2   test_images/201/201_mask.tiff  (5461, 23871)  (5461, 23871)  \n",
       "3   test_images/202/202_mask.tiff   (4371, 6179)   (4371, 6179)  \n",
       "4   test_images/203/203_mask.tiff   (5591, 3546)   (5591, 3546)  \n",
       "5   test_images/204/204_mask.tiff  (5253, 12053)  (5253, 12053)  \n",
       "6   test_images/355/355_mask.tiff   (5412, 7215)   (5412, 7215)  \n",
       "7   test_images/356/356_mask.tiff   (5412, 7215)   (5412, 7215)  \n",
       "8   test_images/358/358_mask.tiff   (5412, 7215)   (5412, 7215)  \n",
       "9   test_images/359/359_mask.tiff   (5412, 7215)   (5412, 7215)  \n",
       "10  test_images/364/364_mask.tiff   (5412, 7215)   (5412, 7215)  \n",
       "11  test_images/365/365_mask.tiff   (5412, 7215)   (5412, 7215)  \n",
       "12  test_images/367/367_mask.tiff   (5412, 7215)   (5412, 7215)  \n",
       "13  test_images/368/368_mask.tiff   (5412, 7215)   (5412, 7215)  \n",
       "14  test_images/371/371_mask.tiff   (1575, 1267)   (1575, 1267)  \n",
       "15  test_images/372/372_mask.tiff  (19318, 7152)  (19318, 7152)  \n",
       "16  test_images/373/373_mask.tiff   (5412, 7215)   (5412, 7215)  \n",
       "17  test_images/374/374_mask.tiff   (5412, 7215)   (5412, 7215)  \n",
       "18  test_images/377/377_mask.tiff   (5412, 7215)   (5412, 7215)  \n",
       "19  test_images/384/384_mask.tiff   (5412, 7215)   (5412, 7215)  \n",
       "20  test_images/395/395_mask.tiff   (5412, 7215)   (5412, 7215)  \n",
       "21  test_images/399/399_mask.tiff   (5412, 7215)   (5412, 7215)  \n",
       "22  test_images/401/401_mask.tiff    (1127, 805)    (1127, 805)  \n",
       "23  test_images/402/402_mask.tiff   (3656, 4021)   (3656, 4012)  \n",
       "24  test_images/403/403_mask.tiff     (746, 772)     (746, 772)  "
      ]
     },
     "execution_count": 6,
     "metadata": {},
     "output_type": "execute_result"
    }
   ],
   "source": [
    "slides_df = load_external_test_slides_to_df()\n",
    "slides_df"
   ]
  },
  {
   "cell_type": "code",
   "execution_count": 7,
   "metadata": {},
   "outputs": [
    {
     "data": {
      "text/html": [
       "<div>\n",
       "<style scoped>\n",
       "    .dataframe tbody tr th:only-of-type {\n",
       "        vertical-align: middle;\n",
       "    }\n",
       "\n",
       "    .dataframe tbody tr th {\n",
       "        vertical-align: top;\n",
       "    }\n",
       "\n",
       "    .dataframe thead th {\n",
       "        text-align: right;\n",
       "    }\n",
       "</style>\n",
       "<table border=\"1\" class=\"dataframe\">\n",
       "  <thead>\n",
       "    <tr style=\"text-align: right;\">\n",
       "      <th></th>\n",
       "      <th>image</th>\n",
       "      <th>dimensions</th>\n",
       "      <th>model</th>\n",
       "      <th>trained_dataset_range</th>\n",
       "      <th>pixel_accuracy_th</th>\n",
       "      <th>iou</th>\n",
       "      <th>test_date</th>\n",
       "      <th>duration</th>\n",
       "    </tr>\n",
       "  </thead>\n",
       "  <tbody>\n",
       "  </tbody>\n",
       "</table>\n",
       "</div>"
      ],
      "text/plain": [
       "Empty DataFrame\n",
       "Columns: [image, dimensions, model, trained_dataset_range, pixel_accuracy_th, iou, test_date, duration]\n",
       "Index: []"
      ]
     },
     "execution_count": 7,
     "metadata": {},
     "output_type": "execute_result"
    }
   ],
   "source": [
    "# create dataFrame to save the testing results\n",
    "\n",
    "columns = ['image', 'dimensions', 'model','trained_dataset_range','pixel_accuracy_th', 'iou','test_date','duration']\n",
    "df = pd.DataFrame([], columns=columns)\n",
    "df"
   ]
  },
  {
   "cell_type": "code",
   "execution_count": 8,
   "metadata": {},
   "outputs": [
    {
     "data": {
      "text/plain": [
       "['unet_100_0_model',\n",
       " 'unet_98_3_model',\n",
       " 'unet_90_20_model',\n",
       " 'unet_100_50_model']"
      ]
     },
     "execution_count": 8,
     "metadata": {},
     "output_type": "execute_result"
    }
   ],
   "source": [
    "# load models and save the name of model in list\n",
    "# except the VGG and ResNet\n",
    "\n",
    "models = load_models()\n",
    "models_list = list(models.keys())[:-2]\n",
    "models_list"
   ]
  },
  {
   "attachments": {},
   "cell_type": "markdown",
   "metadata": {},
   "source": [
    "### Get the predicted images"
   ]
  },
  {
   "cell_type": "code",
   "execution_count": 12,
   "metadata": {},
   "outputs": [
    {
     "name": "stdout",
     "output_type": "stream",
     "text": [
      "Prediction for unet_100_0_model........\n"
     ]
    },
    {
     "name": "stderr",
     "output_type": "stream",
     "text": [
      "100%|██████████| 12/12 [01:58<00:00,  9.85s/it]\n"
     ]
    },
    {
     "name": "stdout",
     "output_type": "stream",
     "text": [
      "IOU : 0.6708603803262431\n",
      "['102.tif', (6397, 26002), 'Unet', (0, 100), 0.5, 0.6709, '21/06/2023 18:19:07', '0:01:58.536152']\n"
     ]
    },
    {
     "name": "stderr",
     "output_type": "stream",
     "text": [
      "100%|██████████| 33/33 [01:23<00:00,  2.52s/it]\n"
     ]
    },
    {
     "name": "stdout",
     "output_type": "stream",
     "text": [
      "IOU : 0.7557147080049706\n",
      "['121.tif', (17176, 6573), 'Unet', (0, 100), 0.5, 0.7557, '21/06/2023 18:21:08', '0:01:23.284892']\n"
     ]
    },
    {
     "name": "stderr",
     "output_type": "stream",
     "text": [
      "100%|██████████| 10/10 [01:37<00:00,  9.78s/it]\n"
     ]
    },
    {
     "name": "stdout",
     "output_type": "stream",
     "text": [
      "IOU : 0.8499281245848472\n",
      "['201.tif', (5461, 23871), 'Unet', (0, 100), 0.5, 0.8499, '21/06/2023 18:22:34', '0:01:38.047899']\n"
     ]
    },
    {
     "name": "stderr",
     "output_type": "stream",
     "text": [
      "100%|██████████| 8/8 [00:20<00:00,  2.61s/it]\n"
     ]
    },
    {
     "name": "stdout",
     "output_type": "stream",
     "text": [
      "IOU : 0.8192376870383835\n",
      "['202.tif', (4371, 6179), 'Unet', (0, 100), 0.5, 0.8192, '21/06/2023 18:24:14', '0:00:20.945937']\n"
     ]
    },
    {
     "name": "stderr",
     "output_type": "stream",
     "text": [
      "100%|██████████| 10/10 [00:14<00:00,  1.42s/it]\n"
     ]
    },
    {
     "name": "stdout",
     "output_type": "stream",
     "text": [
      "IOU : 0.8868431642996447\n",
      "['203.tif', (5591, 3546), 'Unet', (0, 100), 0.5, 0.8868, '21/06/2023 18:24:36', '0:00:14.186095']\n"
     ]
    },
    {
     "name": "stderr",
     "output_type": "stream",
     "text": [
      "100%|██████████| 10/10 [00:50<00:00,  5.03s/it]\n"
     ]
    },
    {
     "name": "stdout",
     "output_type": "stream",
     "text": [
      "IOU : 0.854802498277333\n",
      "['204.tif', (5253, 12053), 'Unet', (0, 100), 0.5, 0.8548, '21/06/2023 18:24:51', '0:00:50.369171']\n"
     ]
    },
    {
     "name": "stderr",
     "output_type": "stream",
     "text": [
      "100%|██████████| 10/10 [00:30<00:00,  3.08s/it]\n"
     ]
    },
    {
     "name": "stdout",
     "output_type": "stream",
     "text": [
      "IOU : 0.3362071032000224\n",
      "['355.tiff', (5412, 7215), 'Unet', (0, 100), 0.5, 0.3362, '21/06/2023 18:25:43', '0:00:30.877413']\n"
     ]
    },
    {
     "name": "stderr",
     "output_type": "stream",
     "text": [
      "100%|██████████| 10/10 [00:31<00:00,  3.14s/it]\n"
     ]
    },
    {
     "name": "stdout",
     "output_type": "stream",
     "text": [
      "IOU : 0.20693489416867297\n",
      "['356.tiff', (5412, 7215), 'Unet', (0, 100), 0.5, 0.2069, '21/06/2023 18:26:16', '0:00:31.467941']\n"
     ]
    },
    {
     "name": "stderr",
     "output_type": "stream",
     "text": [
      "100%|██████████| 10/10 [00:31<00:00,  3.14s/it]\n"
     ]
    },
    {
     "name": "stdout",
     "output_type": "stream",
     "text": [
      "IOU : 0.21585195379223443\n",
      "['358.tiff', (5412, 7215), 'Unet', (0, 100), 0.5, 0.2159, '21/06/2023 18:26:50', '0:00:31.463559']\n"
     ]
    },
    {
     "name": "stderr",
     "output_type": "stream",
     "text": [
      "100%|██████████| 10/10 [00:31<00:00,  3.13s/it]\n"
     ]
    },
    {
     "name": "stdout",
     "output_type": "stream",
     "text": [
      "IOU : 0.5447943245488209\n",
      "['359.tiff', (5412, 7215), 'Unet', (0, 100), 0.5, 0.5448, '21/06/2023 18:27:23', '0:00:31.349581']\n"
     ]
    },
    {
     "name": "stderr",
     "output_type": "stream",
     "text": [
      "100%|██████████| 10/10 [00:31<00:00,  3.17s/it]\n"
     ]
    },
    {
     "name": "stdout",
     "output_type": "stream",
     "text": [
      "IOU : 0.09543229514433248\n",
      "['364.tiff', (5412, 7215), 'Unet', (0, 100), 0.5, 0.0954, '21/06/2023 18:27:57', '0:00:31.806360']\n"
     ]
    },
    {
     "name": "stderr",
     "output_type": "stream",
     "text": [
      "100%|██████████| 10/10 [00:32<00:00,  3.24s/it]\n"
     ]
    },
    {
     "name": "stdout",
     "output_type": "stream",
     "text": [
      "IOU : 0.4196225633527892\n",
      "['365.tiff', (5412, 7215), 'Unet', (0, 100), 0.5, 0.4196, '21/06/2023 18:28:31', '0:00:32.481406']\n"
     ]
    },
    {
     "name": "stderr",
     "output_type": "stream",
     "text": [
      "100%|██████████| 10/10 [00:32<00:00,  3.22s/it]\n"
     ]
    },
    {
     "name": "stdout",
     "output_type": "stream",
     "text": [
      "IOU : 0.45632958450241784\n",
      "['367.tiff', (5412, 7215), 'Unet', (0, 100), 0.5, 0.4563, '21/06/2023 18:29:05', '0:00:32.287776']\n"
     ]
    },
    {
     "name": "stderr",
     "output_type": "stream",
     "text": [
      "100%|██████████| 10/10 [00:32<00:00,  3.25s/it]\n"
     ]
    },
    {
     "name": "stdout",
     "output_type": "stream",
     "text": [
      "IOU : 0.32204959909665426\n",
      "['368.tiff', (5412, 7215), 'Unet', (0, 100), 0.5, 0.322, '21/06/2023 18:29:40', '0:00:32.622584']\n"
     ]
    },
    {
     "name": "stderr",
     "output_type": "stream",
     "text": [
      "100%|██████████| 3/3 [00:01<00:00,  2.00it/s]\n"
     ]
    },
    {
     "name": "stdout",
     "output_type": "stream",
     "text": [
      "IOU : 0.894100041301974\n",
      "['371.tif', (1575, 1267), 'Unet', (0, 100), 0.5, 0.8941, '21/06/2023 18:30:13', '0:00:01.509669']\n"
     ]
    },
    {
     "name": "stderr",
     "output_type": "stream",
     "text": [
      "100%|██████████| 37/37 [01:53<00:00,  3.07s/it]\n"
     ]
    },
    {
     "name": "stdout",
     "output_type": "stream",
     "text": [
      "IOU : 0.7066031261135405\n",
      "['372.tif', (19318, 7152), 'Unet', (0, 100), 0.5, 0.7066, '21/06/2023 18:30:16', '0:01:53.758758']\n"
     ]
    },
    {
     "name": "stderr",
     "output_type": "stream",
     "text": [
      "100%|██████████| 10/10 [00:33<00:00,  3.36s/it]\n"
     ]
    },
    {
     "name": "stdout",
     "output_type": "stream",
     "text": [
      "IOU : 0.5721246266030334\n",
      "['373.tiff', (5412, 7215), 'Unet', (0, 100), 0.5, 0.5721, '21/06/2023 18:32:13', '0:00:33.618875']\n"
     ]
    },
    {
     "name": "stderr",
     "output_type": "stream",
     "text": [
      "100%|██████████| 10/10 [00:33<00:00,  3.36s/it]\n"
     ]
    },
    {
     "name": "stdout",
     "output_type": "stream",
     "text": [
      "IOU : 0.6632417250131789\n",
      "['374.tiff', (5412, 7215), 'Unet', (0, 100), 0.5, 0.6632, '21/06/2023 18:32:48', '0:00:33.714029']\n"
     ]
    },
    {
     "name": "stderr",
     "output_type": "stream",
     "text": [
      "100%|██████████| 10/10 [00:33<00:00,  3.37s/it]\n"
     ]
    },
    {
     "name": "stdout",
     "output_type": "stream",
     "text": [
      "IOU : 0.4717624788948077\n",
      "['377.tiff', (5412, 7215), 'Unet', (0, 100), 0.5, 0.4718, '21/06/2023 18:33:24', '0:00:33.740886']\n"
     ]
    },
    {
     "name": "stderr",
     "output_type": "stream",
     "text": [
      "100%|██████████| 10/10 [00:34<00:00,  3.41s/it]\n"
     ]
    },
    {
     "name": "stdout",
     "output_type": "stream",
     "text": [
      "IOU : 0.10711050720376535\n",
      "['384.tiff', (5412, 7215), 'Unet', (0, 100), 0.5, 0.1071, '21/06/2023 18:34:00', '0:00:34.154216']\n"
     ]
    },
    {
     "name": "stderr",
     "output_type": "stream",
     "text": [
      "100%|██████████| 10/10 [00:34<00:00,  3.46s/it]\n"
     ]
    },
    {
     "name": "stdout",
     "output_type": "stream",
     "text": [
      "IOU : 0.41508926694984555\n",
      "['395.tiff', (5412, 7215), 'Unet', (0, 100), 0.5, 0.4151, '21/06/2023 18:34:37', '0:00:34.646260']\n"
     ]
    },
    {
     "name": "stderr",
     "output_type": "stream",
     "text": [
      "100%|██████████| 10/10 [00:34<00:00,  3.48s/it]\n"
     ]
    },
    {
     "name": "stdout",
     "output_type": "stream",
     "text": [
      "IOU : 0.392300732947804\n",
      "['399.tiff', (5412, 7215), 'Unet', (0, 100), 0.5, 0.3923, '21/06/2023 18:35:13', '0:00:34.831110']\n"
     ]
    },
    {
     "name": "stderr",
     "output_type": "stream",
     "text": [
      "100%|██████████| 2/2 [00:00<00:00,  3.61it/s]\n"
     ]
    },
    {
     "name": "stdout",
     "output_type": "stream",
     "text": [
      "IOU : 0.8223705017135096\n",
      "['401.tif', (1127, 805), 'Unet', (0, 100), 0.5, 0.8224, '21/06/2023 18:35:49', '0:00:00.561430']\n"
     ]
    },
    {
     "name": "stderr",
     "output_type": "stream",
     "text": [
      "100%|██████████| 7/7 [00:12<00:00,  1.75s/it]\n"
     ]
    },
    {
     "name": "stdout",
     "output_type": "stream",
     "text": [
      "IOU : 0.20646886977831905\n",
      "['402.tif', (3656, 4021), 'Unet', (0, 100), 0.5, 0.2065, '21/06/2023 18:35:50', '0:00:12.295070']\n"
     ]
    },
    {
     "name": "stderr",
     "output_type": "stream",
     "text": [
      "100%|██████████| 1/1 [00:00<00:00,  3.36it/s]\n"
     ]
    },
    {
     "name": "stdout",
     "output_type": "stream",
     "text": [
      "IOU : 0.7945026943481348\n",
      "['403.tif', (746, 772), 'Unet', (0, 100), 0.5, 0.7945, '21/06/2023 18:36:02', '0:00:00.304854']\n",
      "Prediction for unet_98_3_model........\n"
     ]
    },
    {
     "name": "stderr",
     "output_type": "stream",
     "text": [
      "100%|██████████| 12/12 [02:32<00:00, 12.72s/it]\n"
     ]
    },
    {
     "name": "stdout",
     "output_type": "stream",
     "text": [
      "IOU : 0.3978346664676973\n",
      "['102.tif', (6397, 26002), 'Unet', (3, 98), 0.5, 0.3978, '21/06/2023 18:36:05', '0:02:33.001426']\n"
     ]
    },
    {
     "name": "stderr",
     "output_type": "stream",
     "text": [
      "100%|██████████| 33/33 [01:44<00:00,  3.16s/it]\n"
     ]
    },
    {
     "name": "stdout",
     "output_type": "stream",
     "text": [
      "IOU : 0.6516132227631691\n",
      "['121.tif', (17176, 6573), 'Unet', (3, 98), 0.5, 0.6516, '21/06/2023 18:38:41', '0:01:44.512951']\n"
     ]
    },
    {
     "name": "stderr",
     "output_type": "stream",
     "text": [
      "100%|██████████| 10/10 [02:04<00:00, 12.41s/it]\n"
     ]
    },
    {
     "name": "stdout",
     "output_type": "stream",
     "text": [
      "IOU : 0.8186718874979512\n",
      "['201.tif', (5461, 23871), 'Unet', (3, 98), 0.5, 0.8187, '21/06/2023 18:40:29', '0:02:04.372757']\n"
     ]
    },
    {
     "name": "stderr",
     "output_type": "stream",
     "text": [
      "100%|██████████| 8/8 [00:26<00:00,  3.32s/it]\n"
     ]
    },
    {
     "name": "stdout",
     "output_type": "stream",
     "text": [
      "IOU : 0.8103769747500041\n",
      "['202.tif', (4371, 6179), 'Unet', (3, 98), 0.5, 0.8104, '21/06/2023 18:42:35', '0:00:26.577169']\n"
     ]
    },
    {
     "name": "stderr",
     "output_type": "stream",
     "text": [
      "100%|██████████| 10/10 [00:16<00:00,  1.69s/it]\n"
     ]
    },
    {
     "name": "stdout",
     "output_type": "stream",
     "text": [
      "IOU : 0.8149117049495481\n",
      "['203.tif', (5591, 3546), 'Unet', (3, 98), 0.5, 0.8149, '21/06/2023 18:43:02', '0:00:16.938591']\n"
     ]
    },
    {
     "name": "stderr",
     "output_type": "stream",
     "text": [
      "100%|██████████| 10/10 [01:03<00:00,  6.34s/it]\n"
     ]
    },
    {
     "name": "stdout",
     "output_type": "stream",
     "text": [
      "IOU : 0.8332809823898096\n",
      "['204.tif', (5253, 12053), 'Unet', (3, 98), 0.5, 0.8333, '21/06/2023 18:43:20', '0:01:03.523084']\n"
     ]
    },
    {
     "name": "stderr",
     "output_type": "stream",
     "text": [
      "100%|██████████| 10/10 [00:39<00:00,  3.98s/it]\n"
     ]
    },
    {
     "name": "stdout",
     "output_type": "stream",
     "text": [
      "IOU : 0.30905573531483066\n",
      "['355.tiff', (5412, 7215), 'Unet', (3, 98), 0.5, 0.3091, '21/06/2023 18:44:26', '0:00:39.927556']\n"
     ]
    },
    {
     "name": "stderr",
     "output_type": "stream",
     "text": [
      "100%|██████████| 10/10 [00:40<00:00,  4.01s/it]\n"
     ]
    },
    {
     "name": "stdout",
     "output_type": "stream",
     "text": [
      "IOU : 0.11525137745136622\n",
      "['356.tiff', (5412, 7215), 'Unet', (3, 98), 0.5, 0.1153, '21/06/2023 18:45:08', '0:00:40.131084']\n"
     ]
    },
    {
     "name": "stderr",
     "output_type": "stream",
     "text": [
      "100%|██████████| 10/10 [00:39<00:00,  3.97s/it]\n"
     ]
    },
    {
     "name": "stdout",
     "output_type": "stream",
     "text": [
      "IOU : 0.21777679431454303\n",
      "['358.tiff', (5412, 7215), 'Unet', (3, 98), 0.5, 0.2178, '21/06/2023 18:45:51', '0:00:39.816553']\n"
     ]
    },
    {
     "name": "stderr",
     "output_type": "stream",
     "text": [
      "100%|██████████| 10/10 [00:40<00:00,  4.04s/it]\n"
     ]
    },
    {
     "name": "stdout",
     "output_type": "stream",
     "text": [
      "IOU : 0.46508787255039763\n",
      "['359.tiff', (5412, 7215), 'Unet', (3, 98), 0.5, 0.4651, '21/06/2023 18:46:33', '0:00:40.492973']\n"
     ]
    },
    {
     "name": "stderr",
     "output_type": "stream",
     "text": [
      "100%|██████████| 10/10 [00:41<00:00,  4.10s/it]\n"
     ]
    },
    {
     "name": "stdout",
     "output_type": "stream",
     "text": [
      "IOU : 0.08379076005987182\n",
      "['364.tiff', (5412, 7215), 'Unet', (3, 98), 0.5, 0.0838, '21/06/2023 18:47:16', '0:00:41.115669']\n"
     ]
    },
    {
     "name": "stderr",
     "output_type": "stream",
     "text": [
      "100%|██████████| 10/10 [00:40<00:00,  4.09s/it]\n"
     ]
    },
    {
     "name": "stdout",
     "output_type": "stream",
     "text": [
      "IOU : 0.35494539469448116\n",
      "['365.tiff', (5412, 7215), 'Unet', (3, 98), 0.5, 0.3549, '21/06/2023 18:47:59', '0:00:41.018550']\n"
     ]
    },
    {
     "name": "stderr",
     "output_type": "stream",
     "text": [
      "100%|██████████| 10/10 [00:41<00:00,  4.15s/it]\n"
     ]
    },
    {
     "name": "stdout",
     "output_type": "stream",
     "text": [
      "IOU : 0.41600006482373325\n",
      "['367.tiff', (5412, 7215), 'Unet', (3, 98), 0.5, 0.416, '21/06/2023 18:48:42', '0:00:41.547500']\n"
     ]
    },
    {
     "name": "stderr",
     "output_type": "stream",
     "text": [
      "100%|██████████| 10/10 [00:41<00:00,  4.19s/it]\n"
     ]
    },
    {
     "name": "stdout",
     "output_type": "stream",
     "text": [
      "IOU : 0.24300565650565412\n",
      "['368.tiff', (5412, 7215), 'Unet', (3, 98), 0.5, 0.243, '21/06/2023 18:49:26', '0:00:42.012736']\n"
     ]
    },
    {
     "name": "stderr",
     "output_type": "stream",
     "text": [
      "100%|██████████| 3/3 [00:01<00:00,  1.59it/s]\n"
     ]
    },
    {
     "name": "stdout",
     "output_type": "stream",
     "text": [
      "IOU : 0.8622821778423281\n",
      "['371.tif', (1575, 1267), 'Unet', (3, 98), 0.5, 0.8623, '21/06/2023 18:50:09', '0:00:01.902268']\n"
     ]
    },
    {
     "name": "stderr",
     "output_type": "stream",
     "text": [
      "100%|██████████| 37/37 [02:31<00:00,  4.10s/it]\n"
     ]
    },
    {
     "name": "stdout",
     "output_type": "stream",
     "text": [
      "IOU : 0.5650953725892319\n",
      "['372.tif', (19318, 7152), 'Unet', (3, 98), 0.5, 0.5651, '21/06/2023 18:50:12', '0:02:32.119564']\n"
     ]
    },
    {
     "name": "stderr",
     "output_type": "stream",
     "text": [
      "100%|██████████| 10/10 [00:43<00:00,  4.33s/it]\n"
     ]
    },
    {
     "name": "stdout",
     "output_type": "stream",
     "text": [
      "IOU : 0.4518825556178473\n",
      "['373.tiff', (5412, 7215), 'Unet', (3, 98), 0.5, 0.4519, '21/06/2023 18:52:48', '0:00:43.340890']\n"
     ]
    },
    {
     "name": "stderr",
     "output_type": "stream",
     "text": [
      "100%|██████████| 10/10 [00:42<00:00,  4.30s/it]\n"
     ]
    },
    {
     "name": "stdout",
     "output_type": "stream",
     "text": [
      "IOU : 0.5301604605303349\n",
      "['374.tiff', (5412, 7215), 'Unet', (3, 98), 0.5, 0.5302, '21/06/2023 18:53:33', '0:00:43.044154']\n"
     ]
    },
    {
     "name": "stderr",
     "output_type": "stream",
     "text": [
      "100%|██████████| 10/10 [00:45<00:00,  4.56s/it]\n"
     ]
    },
    {
     "name": "stdout",
     "output_type": "stream",
     "text": [
      "IOU : 0.20701988643703456\n",
      "['377.tiff', (5412, 7215), 'Unet', (3, 98), 0.5, 0.207, '21/06/2023 18:54:19', '0:00:45.669021']\n"
     ]
    },
    {
     "name": "stderr",
     "output_type": "stream",
     "text": [
      "100%|██████████| 10/10 [00:44<00:00,  4.44s/it]\n"
     ]
    },
    {
     "name": "stdout",
     "output_type": "stream",
     "text": [
      "IOU : 0.12835931487027072\n",
      "['384.tiff', (5412, 7215), 'Unet', (3, 98), 0.5, 0.1284, '21/06/2023 18:55:07', '0:00:44.457971']\n"
     ]
    },
    {
     "name": "stderr",
     "output_type": "stream",
     "text": [
      "100%|██████████| 10/10 [00:44<00:00,  4.49s/it]\n"
     ]
    },
    {
     "name": "stdout",
     "output_type": "stream",
     "text": [
      "IOU : 0.09631251727839828\n",
      "['395.tiff', (5412, 7215), 'Unet', (3, 98), 0.5, 0.0963, '21/06/2023 18:55:54', '0:00:44.995893']\n"
     ]
    },
    {
     "name": "stderr",
     "output_type": "stream",
     "text": [
      "100%|██████████| 10/10 [00:44<00:00,  4.46s/it]\n"
     ]
    },
    {
     "name": "stdout",
     "output_type": "stream",
     "text": [
      "IOU : 0.20570480907644012\n",
      "['399.tiff', (5412, 7215), 'Unet', (3, 98), 0.5, 0.2057, '21/06/2023 18:56:41', '0:00:44.699240']\n"
     ]
    },
    {
     "name": "stderr",
     "output_type": "stream",
     "text": [
      "100%|██████████| 2/2 [00:00<00:00,  2.98it/s]\n"
     ]
    },
    {
     "name": "stdout",
     "output_type": "stream",
     "text": [
      "IOU : 0.8724412254282485\n",
      "['401.tif', (1127, 805), 'Unet', (3, 98), 0.5, 0.8724, '21/06/2023 18:57:26', '0:00:00.677883']\n"
     ]
    },
    {
     "name": "stderr",
     "output_type": "stream",
     "text": [
      "100%|██████████| 7/7 [00:16<00:00,  2.30s/it]\n"
     ]
    },
    {
     "name": "stdout",
     "output_type": "stream",
     "text": [
      "IOU : 0.09983378934394488\n",
      "['402.tif', (3656, 4021), 'Unet', (3, 98), 0.5, 0.0998, '21/06/2023 18:57:27', '0:00:16.098288']\n"
     ]
    },
    {
     "name": "stderr",
     "output_type": "stream",
     "text": [
      "100%|██████████| 1/1 [00:00<00:00,  2.38it/s]\n"
     ]
    },
    {
     "name": "stdout",
     "output_type": "stream",
     "text": [
      "IOU : 0.876888792771107\n",
      "['403.tif', (746, 772), 'Unet', (3, 98), 0.5, 0.8769, '21/06/2023 18:57:44', '0:00:00.428455']\n",
      "Prediction for unet_90_20_model........\n"
     ]
    },
    {
     "name": "stderr",
     "output_type": "stream",
     "text": [
      "100%|██████████| 12/12 [03:13<00:00, 16.13s/it]\n"
     ]
    },
    {
     "name": "stdout",
     "output_type": "stream",
     "text": [
      "IOU : 0.3884967364542739\n",
      "['102.tif', (6397, 26002), 'Unet', (20, 90), 0.5, 0.3885, '21/06/2023 18:57:47', '0:03:13.798629']\n"
     ]
    },
    {
     "name": "stderr",
     "output_type": "stream",
     "text": [
      "100%|██████████| 33/33 [02:12<00:00,  4.01s/it]\n"
     ]
    },
    {
     "name": "stdout",
     "output_type": "stream",
     "text": [
      "IOU : 0.4872811103827858\n",
      "['121.tif', (17176, 6573), 'Unet', (20, 90), 0.5, 0.4873, '21/06/2023 19:01:04', '0:02:12.364108']\n"
     ]
    },
    {
     "name": "stderr",
     "output_type": "stream",
     "text": [
      "100%|██████████| 10/10 [02:30<00:00, 15.01s/it]\n"
     ]
    },
    {
     "name": "stdout",
     "output_type": "stream",
     "text": [
      "IOU : 0.6999066191158412\n",
      "['201.tif', (5461, 23871), 'Unet', (20, 90), 0.5, 0.6999, '21/06/2023 19:03:19', '0:02:30.323347']\n"
     ]
    },
    {
     "name": "stderr",
     "output_type": "stream",
     "text": [
      "100%|██████████| 8/8 [00:32<00:00,  4.03s/it]\n"
     ]
    },
    {
     "name": "stdout",
     "output_type": "stream",
     "text": [
      "IOU : 0.8232124206349453\n",
      "['202.tif', (4371, 6179), 'Unet', (20, 90), 0.5, 0.8232, '21/06/2023 19:05:51', '0:00:32.270364']\n"
     ]
    },
    {
     "name": "stderr",
     "output_type": "stream",
     "text": [
      "100%|██████████| 10/10 [00:20<00:00,  2.04s/it]\n"
     ]
    },
    {
     "name": "stdout",
     "output_type": "stream",
     "text": [
      "IOU : 0.7408236600853491\n",
      "['203.tif', (5591, 3546), 'Unet', (20, 90), 0.5, 0.7408, '21/06/2023 19:06:24', '0:00:20.476766']\n"
     ]
    },
    {
     "name": "stderr",
     "output_type": "stream",
     "text": [
      "100%|██████████| 10/10 [01:18<00:00,  7.85s/it]\n"
     ]
    },
    {
     "name": "stdout",
     "output_type": "stream",
     "text": [
      "IOU : 0.8211507457059662\n",
      "['204.tif', (5253, 12053), 'Unet', (20, 90), 0.5, 0.8212, '21/06/2023 19:06:46', '0:01:18.657509']\n"
     ]
    },
    {
     "name": "stderr",
     "output_type": "stream",
     "text": [
      "100%|██████████| 10/10 [00:48<00:00,  4.82s/it]\n"
     ]
    },
    {
     "name": "stdout",
     "output_type": "stream",
     "text": [
      "IOU : 0.4699721010323896\n",
      "['355.tiff', (5412, 7215), 'Unet', (20, 90), 0.5, 0.47, '21/06/2023 19:08:07', '0:00:48.257441']\n"
     ]
    },
    {
     "name": "stderr",
     "output_type": "stream",
     "text": [
      "100%|██████████| 10/10 [00:48<00:00,  4.84s/it]\n"
     ]
    },
    {
     "name": "stdout",
     "output_type": "stream",
     "text": [
      "IOU : 0.2862123925340552\n",
      "['356.tiff', (5412, 7215), 'Unet', (20, 90), 0.5, 0.2862, '21/06/2023 19:08:58', '0:00:48.484786']\n"
     ]
    },
    {
     "name": "stderr",
     "output_type": "stream",
     "text": [
      "100%|██████████| 10/10 [00:48<00:00,  4.86s/it]\n"
     ]
    },
    {
     "name": "stdout",
     "output_type": "stream",
     "text": [
      "IOU : 0.6979098178180865\n",
      "['358.tiff', (5412, 7215), 'Unet', (20, 90), 0.5, 0.6979, '21/06/2023 19:09:49', '0:00:48.651351']\n"
     ]
    },
    {
     "name": "stderr",
     "output_type": "stream",
     "text": [
      "100%|██████████| 10/10 [00:49<00:00,  4.91s/it]\n"
     ]
    },
    {
     "name": "stdout",
     "output_type": "stream",
     "text": [
      "IOU : 0.5392659396630445\n",
      "['359.tiff', (5412, 7215), 'Unet', (20, 90), 0.5, 0.5393, '21/06/2023 19:10:40', '0:00:49.146548']\n"
     ]
    },
    {
     "name": "stderr",
     "output_type": "stream",
     "text": [
      "100%|██████████| 10/10 [00:49<00:00,  4.93s/it]\n"
     ]
    },
    {
     "name": "stdout",
     "output_type": "stream",
     "text": [
      "IOU : 0.12314620988390179\n",
      "['364.tiff', (5412, 7215), 'Unet', (20, 90), 0.5, 0.1231, '21/06/2023 19:11:32', '0:00:49.354076']\n"
     ]
    },
    {
     "name": "stderr",
     "output_type": "stream",
     "text": [
      "100%|██████████| 10/10 [00:49<00:00,  4.91s/it]\n"
     ]
    },
    {
     "name": "stdout",
     "output_type": "stream",
     "text": [
      "IOU : 0.49768175310277807\n",
      "['365.tiff', (5412, 7215), 'Unet', (20, 90), 0.5, 0.4977, '21/06/2023 19:12:23', '0:00:49.211500']\n"
     ]
    },
    {
     "name": "stderr",
     "output_type": "stream",
     "text": [
      "100%|██████████| 10/10 [00:49<00:00,  4.96s/it]\n"
     ]
    },
    {
     "name": "stdout",
     "output_type": "stream",
     "text": [
      "IOU : 0.3072946595495556\n",
      "['367.tiff', (5412, 7215), 'Unet', (20, 90), 0.5, 0.3073, '21/06/2023 19:13:15', '0:00:49.642833']\n"
     ]
    },
    {
     "name": "stderr",
     "output_type": "stream",
     "text": [
      "100%|██████████| 10/10 [00:50<00:00,  5.02s/it]\n"
     ]
    },
    {
     "name": "stdout",
     "output_type": "stream",
     "text": [
      "IOU : 0.3597120297010087\n",
      "['368.tiff', (5412, 7215), 'Unet', (20, 90), 0.5, 0.3597, '21/06/2023 19:14:07', '0:00:50.226824']\n"
     ]
    },
    {
     "name": "stderr",
     "output_type": "stream",
     "text": [
      "100%|██████████| 3/3 [00:02<00:00,  1.32it/s]\n"
     ]
    },
    {
     "name": "stdout",
     "output_type": "stream",
     "text": [
      "IOU : 0.7681780268132979\n",
      "['371.tif', (1575, 1267), 'Unet', (20, 90), 0.5, 0.7682, '21/06/2023 19:14:58', '0:00:02.284122']\n"
     ]
    },
    {
     "name": "stderr",
     "output_type": "stream",
     "text": [
      "100%|██████████| 37/37 [02:53<00:00,  4.69s/it]\n"
     ]
    },
    {
     "name": "stdout",
     "output_type": "stream",
     "text": [
      "IOU : 0.40111430512343493\n",
      "['372.tif', (19318, 7152), 'Unet', (20, 90), 0.5, 0.4011, '21/06/2023 19:15:02', '0:02:53.718720']\n"
     ]
    },
    {
     "name": "stderr",
     "output_type": "stream",
     "text": [
      "100%|██████████| 10/10 [00:51<00:00,  5.11s/it]\n"
     ]
    },
    {
     "name": "stdout",
     "output_type": "stream",
     "text": [
      "IOU : 0.2205243414011493\n",
      "['373.tiff', (5412, 7215), 'Unet', (20, 90), 0.5, 0.2205, '21/06/2023 19:17:58', '0:00:51.205758']\n"
     ]
    },
    {
     "name": "stderr",
     "output_type": "stream",
     "text": [
      "100%|██████████| 10/10 [00:51<00:00,  5.16s/it]\n"
     ]
    },
    {
     "name": "stdout",
     "output_type": "stream",
     "text": [
      "IOU : 0.3992057247169079\n",
      "['374.tiff', (5412, 7215), 'Unet', (20, 90), 0.5, 0.3992, '21/06/2023 19:18:52', '0:00:51.707484']\n"
     ]
    },
    {
     "name": "stderr",
     "output_type": "stream",
     "text": [
      "100%|██████████| 10/10 [00:50<00:00,  5.09s/it]\n"
     ]
    },
    {
     "name": "stdout",
     "output_type": "stream",
     "text": [
      "IOU : 0.37590911059379306\n",
      "['377.tiff', (5412, 7215), 'Unet', (20, 90), 0.5, 0.3759, '21/06/2023 19:19:46', '0:00:51.008697']\n"
     ]
    },
    {
     "name": "stderr",
     "output_type": "stream",
     "text": [
      "100%|██████████| 10/10 [00:51<00:00,  5.17s/it]\n"
     ]
    },
    {
     "name": "stdout",
     "output_type": "stream",
     "text": [
      "IOU : 0.13272975587680855\n",
      "['384.tiff', (5412, 7215), 'Unet', (20, 90), 0.5, 0.1327, '21/06/2023 19:20:40', '0:00:51.774671']\n"
     ]
    },
    {
     "name": "stderr",
     "output_type": "stream",
     "text": [
      "100%|██████████| 10/10 [00:51<00:00,  5.19s/it]\n"
     ]
    },
    {
     "name": "stdout",
     "output_type": "stream",
     "text": [
      "IOU : 0.349193840951716\n",
      "['395.tiff', (5412, 7215), 'Unet', (20, 90), 0.5, 0.3492, '21/06/2023 19:21:34', '0:00:51.937200']\n"
     ]
    },
    {
     "name": "stderr",
     "output_type": "stream",
     "text": [
      "100%|██████████| 10/10 [00:52<00:00,  5.23s/it]\n"
     ]
    },
    {
     "name": "stdout",
     "output_type": "stream",
     "text": [
      "IOU : 0.3855937775022873\n",
      "['399.tiff', (5412, 7215), 'Unet', (20, 90), 0.5, 0.3856, '21/06/2023 19:22:28', '0:00:52.393741']\n"
     ]
    },
    {
     "name": "stderr",
     "output_type": "stream",
     "text": [
      "100%|██████████| 2/2 [00:00<00:00,  2.49it/s]\n"
     ]
    },
    {
     "name": "stdout",
     "output_type": "stream",
     "text": [
      "IOU : 0.4799005559610056\n",
      "['401.tif', (1127, 805), 'Unet', (20, 90), 0.5, 0.4799, '21/06/2023 19:23:21', '0:00:00.813752']\n"
     ]
    },
    {
     "name": "stderr",
     "output_type": "stream",
     "text": [
      "100%|██████████| 7/7 [00:18<00:00,  2.64s/it]\n"
     ]
    },
    {
     "name": "stdout",
     "output_type": "stream",
     "text": [
      "IOU : 0.02390322783879707\n",
      "['402.tif', (3656, 4021), 'Unet', (20, 90), 0.5, 0.0239, '21/06/2023 19:23:22', '0:00:18.533055']\n"
     ]
    },
    {
     "name": "stderr",
     "output_type": "stream",
     "text": [
      "100%|██████████| 1/1 [00:00<00:00,  2.10it/s]\n"
     ]
    },
    {
     "name": "stdout",
     "output_type": "stream",
     "text": [
      "IOU : 0.6504826558964223\n",
      "['403.tif', (746, 772), 'Unet', (20, 90), 0.5, 0.6505, '21/06/2023 19:23:41', '0:00:00.484155']\n",
      "Prediction for unet_100_50_model........\n"
     ]
    },
    {
     "name": "stderr",
     "output_type": "stream",
     "text": [
      "100%|██████████| 12/12 [03:46<00:00, 18.89s/it]\n"
     ]
    },
    {
     "name": "stdout",
     "output_type": "stream",
     "text": [
      "IOU : 0.22977762818401654\n",
      "['102.tif', (6397, 26002), 'Unet', (50, 100), 0.5, 0.2298, '21/06/2023 19:23:43', '0:03:46.973721']\n"
     ]
    },
    {
     "name": "stderr",
     "output_type": "stream",
     "text": [
      "100%|██████████| 33/33 [02:34<00:00,  4.68s/it]\n"
     ]
    },
    {
     "name": "stdout",
     "output_type": "stream",
     "text": [
      "IOU : 0.18182292507862652\n",
      "['121.tif', (17176, 6573), 'Unet', (50, 100), 0.5, 0.1818, '21/06/2023 19:27:33', '0:02:34.779304']\n"
     ]
    },
    {
     "name": "stderr",
     "output_type": "stream",
     "text": [
      "100%|██████████| 10/10 [03:01<00:00, 18.10s/it]\n"
     ]
    },
    {
     "name": "stdout",
     "output_type": "stream",
     "text": [
      "IOU : 0.16926776961252293\n",
      "['201.tif', (5461, 23871), 'Unet', (50, 100), 0.5, 0.1693, '21/06/2023 19:30:12', '0:03:01.305116']\n"
     ]
    },
    {
     "name": "stderr",
     "output_type": "stream",
     "text": [
      "100%|██████████| 8/8 [00:38<00:00,  4.78s/it]\n"
     ]
    },
    {
     "name": "stdout",
     "output_type": "stream",
     "text": [
      "IOU : 0.3619354438268336\n",
      "['202.tif', (4371, 6179), 'Unet', (50, 100), 0.5, 0.3619, '21/06/2023 19:33:15', '0:00:38.325720']\n"
     ]
    },
    {
     "name": "stderr",
     "output_type": "stream",
     "text": [
      "100%|██████████| 10/10 [00:24<00:00,  2.42s/it]\n"
     ]
    },
    {
     "name": "stdout",
     "output_type": "stream",
     "text": [
      "IOU : 0.3231428246342349\n",
      "['203.tif', (5591, 3546), 'Unet', (50, 100), 0.5, 0.3231, '21/06/2023 19:33:54', '0:00:24.264221']\n"
     ]
    },
    {
     "name": "stderr",
     "output_type": "stream",
     "text": [
      "100%|██████████| 10/10 [01:33<00:00,  9.39s/it]\n"
     ]
    },
    {
     "name": "stdout",
     "output_type": "stream",
     "text": [
      "IOU : 0.1484404468235238\n",
      "['204.tif', (5253, 12053), 'Unet', (50, 100), 0.5, 0.1484, '21/06/2023 19:34:19', '0:01:34.038532']\n"
     ]
    },
    {
     "name": "stderr",
     "output_type": "stream",
     "text": [
      "100%|██████████| 10/10 [00:57<00:00,  5.75s/it]\n"
     ]
    },
    {
     "name": "stdout",
     "output_type": "stream",
     "text": [
      "IOU : 0.12544613705886276\n",
      "['355.tiff', (5412, 7215), 'Unet', (50, 100), 0.5, 0.1254, '21/06/2023 19:35:56', '0:00:57.540421']\n"
     ]
    },
    {
     "name": "stderr",
     "output_type": "stream",
     "text": [
      "100%|██████████| 10/10 [00:57<00:00,  5.76s/it]\n"
     ]
    },
    {
     "name": "stdout",
     "output_type": "stream",
     "text": [
      "IOU : 0.03945999138020491\n",
      "['356.tiff', (5412, 7215), 'Unet', (50, 100), 0.5, 0.0395, '21/06/2023 19:36:56', '0:00:57.706591']\n"
     ]
    },
    {
     "name": "stderr",
     "output_type": "stream",
     "text": [
      "100%|██████████| 10/10 [00:57<00:00,  5.75s/it]\n"
     ]
    },
    {
     "name": "stdout",
     "output_type": "stream",
     "text": [
      "IOU : 0.06976247804170836\n",
      "['358.tiff', (5412, 7215), 'Unet', (50, 100), 0.5, 0.0698, '21/06/2023 19:37:57', '0:00:57.602567']\n"
     ]
    },
    {
     "name": "stderr",
     "output_type": "stream",
     "text": [
      "100%|██████████| 10/10 [00:56<00:00,  5.69s/it]\n"
     ]
    },
    {
     "name": "stdout",
     "output_type": "stream",
     "text": [
      "IOU : 0.1696286889461572\n",
      "['359.tiff', (5412, 7215), 'Unet', (50, 100), 0.5, 0.1696, '21/06/2023 19:38:57', '0:00:57.018984']\n"
     ]
    },
    {
     "name": "stderr",
     "output_type": "stream",
     "text": [
      "100%|██████████| 10/10 [00:58<00:00,  5.83s/it]\n"
     ]
    },
    {
     "name": "stdout",
     "output_type": "stream",
     "text": [
      "IOU : 0.027009311334824076\n",
      "['364.tiff', (5412, 7215), 'Unet', (50, 100), 0.5, 0.027, '21/06/2023 19:39:56', '0:00:58.363508']\n"
     ]
    },
    {
     "name": "stderr",
     "output_type": "stream",
     "text": [
      "100%|██████████| 10/10 [00:59<00:00,  5.90s/it]\n"
     ]
    },
    {
     "name": "stdout",
     "output_type": "stream",
     "text": [
      "IOU : 0.10784878310469788\n",
      "['365.tiff', (5412, 7215), 'Unet', (50, 100), 0.5, 0.1078, '21/06/2023 19:40:57', '0:00:59.083436']\n"
     ]
    },
    {
     "name": "stderr",
     "output_type": "stream",
     "text": [
      "100%|██████████| 10/10 [01:00<00:00,  6.01s/it]\n"
     ]
    },
    {
     "name": "stdout",
     "output_type": "stream",
     "text": [
      "IOU : 0.18785000523793371\n",
      "['367.tiff', (5412, 7215), 'Unet', (50, 100), 0.5, 0.1879, '21/06/2023 19:41:59', '0:01:00.204719']\n"
     ]
    },
    {
     "name": "stderr",
     "output_type": "stream",
     "text": [
      "100%|██████████| 10/10 [01:00<00:00,  6.02s/it]\n"
     ]
    },
    {
     "name": "stdout",
     "output_type": "stream",
     "text": [
      "IOU : 0.08502082843556773\n",
      "['368.tiff', (5412, 7215), 'Unet', (50, 100), 0.5, 0.085, '21/06/2023 19:43:02', '0:01:00.257641']\n"
     ]
    },
    {
     "name": "stderr",
     "output_type": "stream",
     "text": [
      "100%|██████████| 3/3 [00:02<00:00,  1.13it/s]\n"
     ]
    },
    {
     "name": "stdout",
     "output_type": "stream",
     "text": [
      "IOU : 0.43489789710734617\n",
      "['371.tif', (1575, 1267), 'Unet', (50, 100), 0.5, 0.4349, '21/06/2023 19:44:02', '0:00:02.670376']\n"
     ]
    },
    {
     "name": "stderr",
     "output_type": "stream",
     "text": [
      "100%|██████████| 37/37 [03:27<00:00,  5.62s/it]\n"
     ]
    },
    {
     "name": "stdout",
     "output_type": "stream",
     "text": [
      "IOU : 0.10260802963414817\n",
      "['372.tif', (19318, 7152), 'Unet', (50, 100), 0.5, 0.1026, '21/06/2023 19:44:06', '0:03:28.086556']\n"
     ]
    },
    {
     "name": "stderr",
     "output_type": "stream",
     "text": [
      "100%|██████████| 10/10 [01:01<00:00,  6.17s/it]\n"
     ]
    },
    {
     "name": "stdout",
     "output_type": "stream",
     "text": [
      "IOU : 0.170503587641233\n",
      "['373.tiff', (5412, 7215), 'Unet', (50, 100), 0.5, 0.1705, '21/06/2023 19:47:38', '0:01:01.785333']\n"
     ]
    },
    {
     "name": "stderr",
     "output_type": "stream",
     "text": [
      "100%|██████████| 10/10 [01:02<00:00,  6.29s/it]\n"
     ]
    },
    {
     "name": "stdout",
     "output_type": "stream",
     "text": [
      "IOU : 0.12328201691434966\n",
      "['374.tiff', (5412, 7215), 'Unet', (50, 100), 0.5, 0.1233, '21/06/2023 19:48:42', '0:01:02.986996']\n"
     ]
    },
    {
     "name": "stderr",
     "output_type": "stream",
     "text": [
      "100%|██████████| 10/10 [01:02<00:00,  6.20s/it]\n"
     ]
    },
    {
     "name": "stdout",
     "output_type": "stream",
     "text": [
      "IOU : 0.0953403759708259\n",
      "['377.tiff', (5412, 7215), 'Unet', (50, 100), 0.5, 0.0953, '21/06/2023 19:49:48', '0:01:02.099079']\n"
     ]
    },
    {
     "name": "stderr",
     "output_type": "stream",
     "text": [
      "100%|██████████| 10/10 [01:01<00:00,  6.17s/it]\n"
     ]
    },
    {
     "name": "stdout",
     "output_type": "stream",
     "text": [
      "IOU : 0.0756011358253614\n",
      "['384.tiff', (5412, 7215), 'Unet', (50, 100), 0.5, 0.0756, '21/06/2023 19:50:53', '0:01:01.745660']\n"
     ]
    },
    {
     "name": "stderr",
     "output_type": "stream",
     "text": [
      "100%|██████████| 10/10 [01:03<00:00,  6.32s/it]\n"
     ]
    },
    {
     "name": "stdout",
     "output_type": "stream",
     "text": [
      "IOU : 0.04304173453462506\n",
      "['395.tiff', (5412, 7215), 'Unet', (50, 100), 0.5, 0.043, '21/06/2023 19:51:58', '0:01:03.299040']\n"
     ]
    },
    {
     "name": "stderr",
     "output_type": "stream",
     "text": [
      "100%|██████████| 10/10 [00:59<00:00,  5.97s/it]\n"
     ]
    },
    {
     "name": "stdout",
     "output_type": "stream",
     "text": [
      "IOU : 0.07776958492229548\n",
      "['399.tiff', (5412, 7215), 'Unet', (50, 100), 0.5, 0.0778, '21/06/2023 19:53:04', '0:00:59.754029']\n"
     ]
    },
    {
     "name": "stderr",
     "output_type": "stream",
     "text": [
      "100%|██████████| 2/2 [00:00<00:00,  2.18it/s]\n"
     ]
    },
    {
     "name": "stdout",
     "output_type": "stream",
     "text": [
      "IOU : 0.476681574714066\n",
      "['401.tif', (1127, 805), 'Unet', (50, 100), 0.5, 0.4767, '21/06/2023 19:54:04', '0:00:00.931146']\n"
     ]
    },
    {
     "name": "stderr",
     "output_type": "stream",
     "text": [
      "100%|██████████| 7/7 [00:21<00:00,  3.11s/it]\n"
     ]
    },
    {
     "name": "stdout",
     "output_type": "stream",
     "text": [
      "IOU : 0.008324813639485897\n",
      "['402.tif', (3656, 4021), 'Unet', (50, 100), 0.5, 0.0083, '21/06/2023 19:54:05', '0:00:21.836803']\n"
     ]
    },
    {
     "name": "stderr",
     "output_type": "stream",
     "text": [
      "100%|██████████| 1/1 [00:00<00:00,  1.98it/s]"
     ]
    },
    {
     "name": "stdout",
     "output_type": "stream",
     "text": [
      "IOU : 0.6022117095876242\n",
      "['403.tif', (746, 772), 'Unet', (50, 100), 0.5, 0.6022, '21/06/2023 19:54:27', '0:00:00.514354']\n"
     ]
    },
    {
     "name": "stderr",
     "output_type": "stream",
     "text": [
      "\n"
     ]
    }
   ],
   "source": [
    "for i in range(len(models_list)):\n",
    "    print(f'Prediction for {models_list[i]}........')\n",
    "    for idx, row in slides_df.iterrows():\n",
    "        result, pred_mask, df = utils.whole_img_iou(row,models[models_list[i]], 0.5, df)\n",
    "\n",
    "        if not os.path.exists('predicted_images'):\n",
    "            os.mkdir('predicted_images')\n",
    "        if not os.path.exists(f'predicted_images/{models_list[i]}'):\n",
    "            os.mkdir(f'predicted_images/{models_list[i]}')\n",
    "        cv2.imwrite(f'predicted_images/{models_list[i]}/{row[\"img_file\"][:3]}.png', pred_mask)\n",
    "        \n",
    "        if not os.path.exists(f'whole_slide_mask_before/{models_list[i]}'):\n",
    "            os.mkdir(f'whole_slide_mask_before/{models_list[i]}')\n",
    "        cv2.imwrite(f'whole_slide_mask_before/{models_list[i]}/{row[\"img_file\"][:3]}.png', result)\n",
    "    "
   ]
  },
  {
   "cell_type": "code",
   "execution_count": 14,
   "metadata": {},
   "outputs": [
    {
     "data": {
      "text/html": [
       "<div>\n",
       "<style scoped>\n",
       "    .dataframe tbody tr th:only-of-type {\n",
       "        vertical-align: middle;\n",
       "    }\n",
       "\n",
       "    .dataframe tbody tr th {\n",
       "        vertical-align: top;\n",
       "    }\n",
       "\n",
       "    .dataframe thead th {\n",
       "        text-align: right;\n",
       "    }\n",
       "</style>\n",
       "<table border=\"1\" class=\"dataframe\">\n",
       "  <thead>\n",
       "    <tr style=\"text-align: right;\">\n",
       "      <th></th>\n",
       "      <th>image</th>\n",
       "      <th>dimensions</th>\n",
       "      <th>model</th>\n",
       "      <th>trained_dataset_range</th>\n",
       "      <th>pixel_accuracy_th</th>\n",
       "      <th>iou</th>\n",
       "      <th>test_date</th>\n",
       "      <th>duration</th>\n",
       "    </tr>\n",
       "  </thead>\n",
       "  <tbody>\n",
       "  </tbody>\n",
       "</table>\n",
       "</div>"
      ],
      "text/plain": [
       "Empty DataFrame\n",
       "Columns: [image, dimensions, model, trained_dataset_range, pixel_accuracy_th, iou, test_date, duration]\n",
       "Index: []"
      ]
     },
     "execution_count": 14,
     "metadata": {},
     "output_type": "execute_result"
    }
   ],
   "source": [
    "\n",
    "df.to_csv('slide_results.csv', mode='a', index=False, header=False)\n",
    "columns = ['image', 'dimensions', 'model','trained_dataset_range','pixel_accuracy_th', 'iou','test_date','duration']\n",
    "df = pd.DataFrame([], columns=columns)\n",
    "df"
   ]
  },
  {
   "cell_type": "code",
   "execution_count": 14,
   "metadata": {},
   "outputs": [
    {
     "data": {
      "text/html": [
       "<div>\n",
       "<style scoped>\n",
       "    .dataframe tbody tr th:only-of-type {\n",
       "        vertical-align: middle;\n",
       "    }\n",
       "\n",
       "    .dataframe tbody tr th {\n",
       "        vertical-align: top;\n",
       "    }\n",
       "\n",
       "    .dataframe thead th {\n",
       "        text-align: right;\n",
       "    }\n",
       "</style>\n",
       "<table border=\"1\" class=\"dataframe\">\n",
       "  <thead>\n",
       "    <tr style=\"text-align: right;\">\n",
       "      <th></th>\n",
       "      <th>image</th>\n",
       "      <th>dimensions</th>\n",
       "      <th>model</th>\n",
       "      <th>trained_dataset_range</th>\n",
       "      <th>pixel_accuracy_th</th>\n",
       "      <th>iou</th>\n",
       "      <th>test_date</th>\n",
       "      <th>duration</th>\n",
       "    </tr>\n",
       "  </thead>\n",
       "  <tbody>\n",
       "    <tr>\n",
       "      <th>0</th>\n",
       "      <td>102.tif</td>\n",
       "      <td>(6397, 26002)</td>\n",
       "      <td>Unet</td>\n",
       "      <td>(0, 100)</td>\n",
       "      <td>0.5</td>\n",
       "      <td>0.5920</td>\n",
       "      <td>21/06/2023 14:17:42</td>\n",
       "      <td>0:00:40.280827</td>\n",
       "    </tr>\n",
       "    <tr>\n",
       "      <th>1</th>\n",
       "      <td>121.tif</td>\n",
       "      <td>(17176, 6573)</td>\n",
       "      <td>Unet</td>\n",
       "      <td>(0, 100)</td>\n",
       "      <td>0.5</td>\n",
       "      <td>0.7197</td>\n",
       "      <td>21/06/2023 14:18:25</td>\n",
       "      <td>0:00:31.132834</td>\n",
       "    </tr>\n",
       "    <tr>\n",
       "      <th>2</th>\n",
       "      <td>201.tif</td>\n",
       "      <td>(5461, 23871)</td>\n",
       "      <td>Unet</td>\n",
       "      <td>(0, 100)</td>\n",
       "      <td>0.5</td>\n",
       "      <td>0.7363</td>\n",
       "      <td>21/06/2023 14:18:59</td>\n",
       "      <td>0:00:46.934618</td>\n",
       "    </tr>\n",
       "    <tr>\n",
       "      <th>3</th>\n",
       "      <td>202.tif</td>\n",
       "      <td>(4371, 6179)</td>\n",
       "      <td>Unet</td>\n",
       "      <td>(0, 100)</td>\n",
       "      <td>0.5</td>\n",
       "      <td>0.7829</td>\n",
       "      <td>21/06/2023 14:19:48</td>\n",
       "      <td>0:00:06.971996</td>\n",
       "    </tr>\n",
       "    <tr>\n",
       "      <th>4</th>\n",
       "      <td>203.tif</td>\n",
       "      <td>(5591, 3546)</td>\n",
       "      <td>Unet</td>\n",
       "      <td>(0, 100)</td>\n",
       "      <td>0.5</td>\n",
       "      <td>0.8453</td>\n",
       "      <td>21/06/2023 14:19:55</td>\n",
       "      <td>0:00:04.801503</td>\n",
       "    </tr>\n",
       "    <tr>\n",
       "      <th>...</th>\n",
       "      <td>...</td>\n",
       "      <td>...</td>\n",
       "      <td>...</td>\n",
       "      <td>...</td>\n",
       "      <td>...</td>\n",
       "      <td>...</td>\n",
       "      <td>...</td>\n",
       "      <td>...</td>\n",
       "    </tr>\n",
       "    <tr>\n",
       "      <th>95</th>\n",
       "      <td>395.tiff</td>\n",
       "      <td>(5412, 7215)</td>\n",
       "      <td>Unet</td>\n",
       "      <td>(50, 100)</td>\n",
       "      <td>0.5</td>\n",
       "      <td>0.0452</td>\n",
       "      <td>21/06/2023 14:39:36</td>\n",
       "      <td>0:00:10.199326</td>\n",
       "    </tr>\n",
       "    <tr>\n",
       "      <th>96</th>\n",
       "      <td>399.tiff</td>\n",
       "      <td>(5412, 7215)</td>\n",
       "      <td>Unet</td>\n",
       "      <td>(50, 100)</td>\n",
       "      <td>0.5</td>\n",
       "      <td>0.0640</td>\n",
       "      <td>21/06/2023 14:39:48</td>\n",
       "      <td>0:00:12.774646</td>\n",
       "    </tr>\n",
       "    <tr>\n",
       "      <th>97</th>\n",
       "      <td>401.tif</td>\n",
       "      <td>(1127, 805)</td>\n",
       "      <td>Unet</td>\n",
       "      <td>(50, 100)</td>\n",
       "      <td>0.5</td>\n",
       "      <td>0.5544</td>\n",
       "      <td>21/06/2023 14:40:01</td>\n",
       "      <td>0:00:00.227145</td>\n",
       "    </tr>\n",
       "    <tr>\n",
       "      <th>98</th>\n",
       "      <td>402.tif</td>\n",
       "      <td>(3656, 4021)</td>\n",
       "      <td>Unet</td>\n",
       "      <td>(50, 100)</td>\n",
       "      <td>0.5</td>\n",
       "      <td>0.0021</td>\n",
       "      <td>21/06/2023 14:40:02</td>\n",
       "      <td>0:00:03.535211</td>\n",
       "    </tr>\n",
       "    <tr>\n",
       "      <th>99</th>\n",
       "      <td>403.tif</td>\n",
       "      <td>(746, 772)</td>\n",
       "      <td>Unet</td>\n",
       "      <td>(50, 100)</td>\n",
       "      <td>0.5</td>\n",
       "      <td>0.3835</td>\n",
       "      <td>21/06/2023 14:40:05</td>\n",
       "      <td>0:00:00.225991</td>\n",
       "    </tr>\n",
       "  </tbody>\n",
       "</table>\n",
       "<p>100 rows × 8 columns</p>\n",
       "</div>"
      ],
      "text/plain": [
       "       image     dimensions model trained_dataset_range  pixel_accuracy_th  \\\n",
       "0    102.tif  (6397, 26002)  Unet              (0, 100)                0.5   \n",
       "1    121.tif  (17176, 6573)  Unet              (0, 100)                0.5   \n",
       "2    201.tif  (5461, 23871)  Unet              (0, 100)                0.5   \n",
       "3    202.tif   (4371, 6179)  Unet              (0, 100)                0.5   \n",
       "4    203.tif   (5591, 3546)  Unet              (0, 100)                0.5   \n",
       "..       ...            ...   ...                   ...                ...   \n",
       "95  395.tiff   (5412, 7215)  Unet             (50, 100)                0.5   \n",
       "96  399.tiff   (5412, 7215)  Unet             (50, 100)                0.5   \n",
       "97   401.tif    (1127, 805)  Unet             (50, 100)                0.5   \n",
       "98   402.tif   (3656, 4021)  Unet             (50, 100)                0.5   \n",
       "99   403.tif     (746, 772)  Unet             (50, 100)                0.5   \n",
       "\n",
       "       iou            test_date        duration  \n",
       "0   0.5920  21/06/2023 14:17:42  0:00:40.280827  \n",
       "1   0.7197  21/06/2023 14:18:25  0:00:31.132834  \n",
       "2   0.7363  21/06/2023 14:18:59  0:00:46.934618  \n",
       "3   0.7829  21/06/2023 14:19:48  0:00:06.971996  \n",
       "4   0.8453  21/06/2023 14:19:55  0:00:04.801503  \n",
       "..     ...                  ...             ...  \n",
       "95  0.0452  21/06/2023 14:39:36  0:00:10.199326  \n",
       "96  0.0640  21/06/2023 14:39:48  0:00:12.774646  \n",
       "97  0.5544  21/06/2023 14:40:01  0:00:00.227145  \n",
       "98  0.0021  21/06/2023 14:40:02  0:00:03.535211  \n",
       "99  0.3835  21/06/2023 14:40:05  0:00:00.225991  \n",
       "\n",
       "[100 rows x 8 columns]"
      ]
     },
     "execution_count": 14,
     "metadata": {},
     "output_type": "execute_result"
    }
   ],
   "source": [
    "columns = ['image', 'dimensions', 'model','trained_dataset_range','pixel_accuracy_th', 'iou','test_date','duration']\n",
    "df = pd.read_csv('slide_results.csv', names=columns)\n",
    "# df.to_csv('slide_results.csv', mode='a', index=False, header=False)"
   ]
  }
 ],
 "metadata": {
  "colab": {
   "machine_shape": "hm",
   "provenance": []
  },
  "kernelspec": {
   "display_name": "Python 3 (ipykernel)",
   "language": "python",
   "name": "python3"
  },
  "language_info": {
   "codemirror_mode": {
    "name": "ipython",
    "version": 3
   },
   "file_extension": ".py",
   "mimetype": "text/x-python",
   "name": "python",
   "nbconvert_exporter": "python",
   "pygments_lexer": "ipython3",
   "version": "3.9.7"
  }
 },
 "nbformat": 4,
 "nbformat_minor": 1
}
